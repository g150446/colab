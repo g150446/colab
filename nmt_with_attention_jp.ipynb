{
  "cells": [
    {
      "cell_type": "markdown",
      "metadata": {
        "id": "view-in-github",
        "colab_type": "text"
      },
      "source": [
        "<a href=\"https://colab.research.google.com/github/g150446/colab/blob/main/nmt_with_attention_jp.ipynb\" target=\"_parent\"><img src=\"https://colab.research.google.com/assets/colab-badge.svg\" alt=\"Open In Colab\"/></a>"
      ]
    },
    {
      "cell_type": "markdown",
      "metadata": {
        "id": "s_qNSzzyaCbD"
      },
      "source": [
        "##### Copyright 2019 The TensorFlow Authors."
      ]
    },
    {
      "cell_type": "code",
      "execution_count": null,
      "metadata": {
        "cellView": "form",
        "id": "jmjh290raIky"
      },
      "outputs": [],
      "source": [
        "#@title Licensed under the Apache License, Version 2.0 (the \"License\");\n",
        "# you may not use this file except in compliance with the License.\n",
        "# You may obtain a copy of the License at\n",
        "#\n",
        "# https://www.apache.org/licenses/LICENSE-2.0\n",
        "#\n",
        "# Unless required by applicable law or agreed to in writing, software\n",
        "# distributed under the License is distributed on an \"AS IS\" BASIS,\n",
        "# WITHOUT WARRANTIES OR CONDITIONS OF ANY KIND, either express or implied.\n",
        "# See the License for the specific language governing permissions and\n",
        "# limitations under the License."
      ]
    },
    {
      "cell_type": "markdown",
      "metadata": {
        "id": "J0Qjg6vuaHNt"
      },
      "source": [
        "# アテンションを用いたニューラル機械翻訳"
      ]
    },
    {
      "cell_type": "markdown",
      "metadata": {
        "id": "tudzcncJXetB"
      },
      "source": [
        "Note: これらのドキュメントは私たちTensorFlowコミュニティが翻訳したものです。コミュニティによる 翻訳は**ベストエフォート**であるため、この翻訳が正確であることや[英語の公式ドキュメント](https://www.tensorflow.org/?hl=en)の 最新の状態を反映したものであることを保証することはできません。 この翻訳の品質を向上させるためのご意見をお持ちの方は、GitHubリポジトリ[tensorflow/docs](https://github.com/tensorflow/docs)にプルリクエストをお送りください。 コミュニティによる翻訳やレビューに参加していただける方は、 [docs-ja@tensorflow.org メーリングリスト](https://groups.google.com/a/tensorflow.org/forum/#!forum/docs-ja)にご連絡ください。"
      ]
    },
    {
      "cell_type": "markdown",
      "metadata": {
        "id": "AOpGoE2T-YXS"
      },
      "source": [
        "<table class=\"tfo-notebook-buttons\" align=\"left\">\n",
        "  <td>\n",
        "    <a target=\"_blank\" href=\"https://www.tensorflow.org/tutorials/text/nmt_with_attention\">\n",
        "    <img src=\"https://www.tensorflow.org/images/tf_logo_32px.png\" />\n",
        "    View on TensorFlow.org</a>\n",
        "  </td>\n",
        "  <td>\n",
        "    <a target=\"_blank\" href=\"https://colab.research.google.com/github/tensorflow/docs-l10n/blob/master/site/ja/tutorials/text/nmt_with_attention.ipynb\">\n",
        "    <img src=\"https://www.tensorflow.org/images/colab_logo_32px.png\" />\n",
        "    Run in Google Colab</a>\n",
        "  </td>\n",
        "  <td>\n",
        "    <a target=\"_blank\" href=\"https://github.com/tensorflow/docs-l10n/blob/master/site/ja/tutorials/text/nmt_with_attention.ipynb\">\n",
        "    <img src=\"https://www.tensorflow.org/images/GitHub-Mark-32px.png\" />\n",
        "    View source on GitHub</a>\n",
        "  </td>\n",
        "  <td>\n",
        "    <a href=\"https://storage.googleapis.com/tensorflow_docs/docs-l10n/site/ja/tutorials/text/nmt_with_attention.ipynb\"><img src=\"https://www.tensorflow.org/images/download_logo_32px.png\" />Download notebook</a>\n",
        "  </td>\n",
        "</table>"
      ]
    },
    {
      "cell_type": "markdown",
      "metadata": {
        "id": "CiwtNgENbx2g"
      },
      "source": [
        "このノートブックでは、スペイン語から英語への翻訳を行う Sequence to Sequence (seq2seq) モデルを訓練します。このチュートリアルは、 Sequence to Sequence モデルの知識があることを前提にした上級編のサンプルです。\n",
        "\n",
        "このノートブックのモデルを訓練すると、_\"¿todavia estan en casa?\"_  のようなスペイン語の文を入力して、英訳：  _\"are you still at home?\"_  を得ることができます。\n",
        "\n",
        "この翻訳品質はおもちゃとしてはそれなりのものですが、生成されたアテンションの図表の方が面白いかもしれません。これは、翻訳時にモデルが入力文のどの部分に注目しているかを表しています。\n",
        "\n",
        "<img src=\"https://tensorflow.org/images/spanish-english.png\" alt=\"spanish-english attention plot\">\n",
        "\n",
        "Note: このサンプルは P100 GPU 1基で実行した場合に約 10 分かかります。"
      ]
    },
    {
      "cell_type": "code",
      "execution_count": 2,
      "metadata": {
        "id": "tnxXKDjq3jEL"
      },
      "outputs": [],
      "source": [
        "import tensorflow as tf\n",
        "\n",
        "import matplotlib.pyplot as plt\n",
        "import matplotlib.ticker as ticker\n",
        "from sklearn.model_selection import train_test_split\n",
        "\n",
        "import unicodedata\n",
        "import re\n",
        "import numpy as np\n",
        "import os\n",
        "import io\n",
        "import time"
      ]
    },
    {
      "cell_type": "markdown",
      "metadata": {
        "id": "wfodePkj3jEa"
      },
      "source": [
        "## データセットのダウンロードと準備\n",
        "\n",
        "ここでは、http://www.manythings.org/anki/ で提供されている言語データセットを使用します。このデータセットには、次のような書式の言語翻訳ペアが含まれています。\n",
        "\n",
        "\n",
        "```\n",
        "May I borrow this book?\t¿Puedo tomar prestado este libro?\n",
        "```\n",
        "\n",
        "さまざまな言語が用意されていますが、ここでは英語ースペイン語のデータセットを使用します。利便性を考えてこのデータセットは Google Cloud 上に用意してありますが、ご自分でダウンロードすることも可能です。データセットをダウンロードしたあと、データを準備するために下記のようないくつかの手順を実行します。\n",
        "\n",
        "1. それぞれの文ごとに、*開始* と *終了* のトークンを付加する\n",
        "2. 特殊文字を除去して文をきれいにする\n",
        "3. 単語インデックスと逆単語インデックス（単語 → id と id → 単語のマッピングを行うディクショナリ）を作成する\n",
        "4. 最大長にあわせて各文をパディングする"
      ]
    },
    {
      "cell_type": "code",
      "execution_count": 3,
      "metadata": {
        "id": "kRVATYOgJs1b",
        "colab": {
          "base_uri": "https://localhost:8080/"
        },
        "outputId": "a14ccf2e-b0be-4144-fc56-32a1845ca1e8"
      },
      "outputs": [
        {
          "output_type": "stream",
          "name": "stdout",
          "text": [
            "Downloading data from http://storage.googleapis.com/download.tensorflow.org/data/spa-eng.zip\n",
            "2638744/2638744 [==============================] - 1s 0us/step\n"
          ]
        }
      ],
      "source": [
        "# ファイルのダウンロード\n",
        "path_to_zip = tf.keras.utils.get_file(\n",
        "    'spa-eng.zip', origin='http://storage.googleapis.com/download.tensorflow.org/data/spa-eng.zip',\n",
        "    extract=True)\n",
        "\n",
        "path_to_file = os.path.dirname(path_to_zip)+\"/spa-eng/spa.txt\""
      ]
    },
    {
      "cell_type": "code",
      "source": [
        "print(path_to_file)\n",
        "\n",
        "with open(path_to_file) as file:\n",
        "  ct =0\n",
        "  for line in file:\n",
        "    ct = ct +1\n",
        "    if len(line) > 200:\n",
        "      print(line.replace('\\t', ' ') )\n",
        "  print(ct)"
      ],
      "metadata": {
        "colab": {
          "base_uri": "https://localhost:8080/"
        },
        "id": "_uQf9VDkd-jC",
        "outputId": "8a01b6d2-4d83-4ca5-811d-b362481cbe38"
      },
      "execution_count": 10,
      "outputs": [
        {
          "output_type": "stream",
          "name": "stdout",
          "text": [
            "/root/.keras/datasets/spa-eng/spa.txt\n",
            "Tom liked Mary for years, but at some point, his feelings for her changed to love. A Tom le había gustado Mary desde hacía varios años, pero, en algún momento, sus sentimientos hacia ella se convirtieron en amor.\n",
            "\n",
            "Experts say coffee prices are rising mainly because people are willing to pay more. Los expertos declaran que los precios del café están subiendo fundamentalmente porque la gente está dispuesta a pagar más.\n",
            "\n",
            "The Titanic's lifeboats only had enough space to carry about half of those on board. Los botes salvavidas del Titanic solo tenían espacio suficiente para llevar a cerca de la mitad de los que iban a bordo.\n",
            "\n",
            "A pre-dawn raid has netted a large stash of illegal steroids and several bags of cash. Una incursión antes del amanecer ha incautado una gran reserva de esteroides ilegales y varias bolsas de dinero en efectivo.\n",
            "\n",
            "Tom was charged with drunken driving after he was involved in a car accident in Boston. Acusaron a Tom de conducir bajo los efectos del alcohol tras estar implicado en un accidente de tráfico en Boston.\n",
            "\n",
            "Although most islands in the ocean have been mapped, the ocean floor is generally unknown. Aunque la mayoría de las islas en el océano han sido mapeadas, el suelo oceánico es por lo general desconocido.\n",
            "\n",
            "Some of Martin Luther King's supporters began to question his belief in peaceful protests. Alguno de los seguidores de Martin luther King enpezaron a cuestionar su creencia en las protestas pacíficas.\n",
            "\n",
            "To reduce misunderstandings we should learn the techniques for communicating successfully. Con el fin de reducir los malentendidos deberíamos aprender las técnicas para comunicarnos satisfactoriamente.\n",
            "\n",
            "Tom asked Mary about the traffic accident she was involved in when she was five years old. Tom le preguntó a Mary acerca del accidente de tráfico en el que había estado involucrada cuando tenía cinco años.\n",
            "\n",
            "Tom has enough money to buy any computer in this store. He just needs to decide which one. Tom tiene suficiente dinero como para comprar cualquier computador en esta tienda. Él tan sólo debe decidir cuál.\n",
            "\n",
            "A study found that almost 10% of men were obese in 2008. That was up from about 5% in 1980. Un estudio descubrió que casi un 10% de los hombres eran obesos en el 2008. Esto es un aumento de casi un 5% en el 1980.\n",
            "\n",
            "She asked him out on a date, but he said no since he thought girls should not ask boys out. Ella lo invitó a una cita, pero él dijo que no ya que pensaba que las chicas no debían invitar a los chicos.\n",
            "\n",
            "Some Italian fashion designers are saying that white bathing suits will catch on this year. Algunos diseñadores de moda italianos están diciendo que los trajes de baño blancos se pondrán de moda este año.\n",
            "\n",
            "Tom began working as a volunteer at the homeless shelter while he was still in high school. Tom empezó a trabajar como voluntario en el refugio de desposeídos cuando aún seguía en la escuela secundaria.\n",
            "\n",
            "\"When poverty comes in the door, love flies out the window\" is a saying as old as it is sad. \"Cuando la pobreza entra por la puerta, el amor sale volando por la ventana\" es un dicho tan antiguo como es triste.\n",
            "\n",
            "A doctor can bury his mistakes, but an architect can only advise his clients to plant vines. Un doctor puede enterrar sus errores, pero un arquitecto solo puede sugerirle a su cliente plantar enredaderas.\n",
            "\n",
            "The Democrats haven't decided on their candidates yet, but in any case they're sure to lose. Los demócratas aún no han elegido a sus candidatos, sin embargo, están seguros de todos modos que van a perder.\n",
            "\n",
            "Tom can't remember all his passwords, so he keeps them in a list disguised as phone numbers. Tom no puede recordar todas sus contraseñas, por lo que las tiene en una lista disimuladas como números de teléfono.\n",
            "\n",
            "Tom thought the music was too loud, but he was too tired to get up and turn the volume down. Tom pensaba que la música estaba demasiado fuerte, pero estaba demasiado cansado para levantarse a bajarle el volumen.\n",
            "\n",
            "Tom thought where he put his gold coins was the perfect hiding place. However, he was wrong. Tom pensó que el lugar donde puso sus monedas de oro era el escondite perfecto. Sin embargo, estaba equivocado.\n",
            "\n",
            "Tom was impeccably dressed and well prepared for his job interview with the finance company. Tom estaba vestido impecablemente y bien preparado para su entrevista de trabajo con la compañía financiera.\n",
            "\n",
            "I have recently used the services of his travel agency to book a cruise in the Mediterranean. He utilizado recientemente los servicios de su agencia de viajes para contratar un crucero por el Mediterráneo.\n",
            "\n",
            "She bought him a car, but he didn't have a driver's license so he couldn't drive it anywhere. Ella le compró un coche, pero él no tenía carnet de conducir, de modo que no podía llevarlo a ninguna parte.\n",
            "\n",
            "Considering all I've eaten all day is just one slice of bread, I'm not really all that hungry. Considerando que todo lo que he comido en el día entero es nada más que una rebanada de pan, realmente no estoy tan hambriento.\n",
            "\n",
            "If the universe is full of stars, why doesn't their light continually light up the entire sky? Si el universo está lleno de estrellas, ¿por qué la luz que proviene de todas ellas no hace que brille continuamente el cielo entero?\n",
            "\n",
            "It's no use confessing your sins to the priest if you don't think twice before repeating them. No sirve de nada que confieses tus pecados ante el párroco si no te lo piensas dos veces antes de repetirlos.\n",
            "\n",
            "That knife was so blunt I couldn't use it to cut the meat so I had to rely on my pocket knife. El cuchillo era tan romo no pude usarlo para cortar la carne, así que tuve que depender de mi navaja de bolsillo.\n",
            "\n",
            "As soon as I can get my son to scan our family photos, I'll upload some of them to our website. Tan pronto como pueda hacer que mi hijo escanee nuestras fotos familiares, subiré algunas a nuestro sitio web.\n",
            "\n",
            "For some reason, people have been avoiding me like the plague ever since I got back from India. Por algún motivo, la gente me ha estado evadiendo como a la plaga desde el momento que volví de la India.\n",
            "\n",
            "It wasn't until long after they got married that Tom found out that Mary was wanted for murder. No fue hasta mucho tiempo después de que se casaran cuando Tom descubrió que Mary estaba buscada por asesinato.\n",
            "\n",
            "Mary waited years for Tom to get out of prison and was very happy when he finally got released. Mary estuvo años esperando que Tom salga de la cárcel y ella estaba muy feliz cuando él finalmente fue liberado.\n",
            "\n",
            "Professional translators quite often specialize in just one field, for example law or medicine. Los traductores profesionales muy a menudo se especializan solo en un ámbito, por ejemplo derecho o medicina.\n",
            "\n",
            "The bursting of Japan's so-called bubble economy sent shockwaves through international markets. El estallido de la así llamada burbuja especulativa japonesa propagó ondas expansivas a mercados internacionales.\n",
            "\n",
            "Tom wondered how many times he'd have to tell Mary to clean her room before she finally did it. Tom se preguntaba cuántas veces debería decirle a María que limpiara su pieza antes de que al fin lo hiciera.\n",
            "\n",
            "We humans have a great way of twisting facts to fit our conclusion as soon as we have made one. Nosotros los humanos tenemos una grandiosa manera de retorcer los hechos para adecuarlos a nuestra conclusión tan pronto hayamos hecho alguna.\n",
            "\n",
            "After Tom had eaten all the popcorn in the bowl, he went back into the kitchen to pop some more. Después de haber comido todo el pochoclo que había en el pote, Tom fue a la cocina a preparar un poco más.\n",
            "\n",
            "Cesar Chavez died in 1993 at the age of sixty-six. More than 40,000 people attended his funeral. Cesar Chavez murió en 1993 a la edad de sesenta y seis. Más de 40.000 personas asistieron a su funeral.\n",
            "\n",
            "I thought a bunch of people would go water skiing with us, but absolutely no one else showed up. Pensé que un montón de gente iría con nosotros a hacer esquí acuático, pero no apareció absolutamente nadie más.\n",
            "\n",
            "Most people say that the best way to learn a foreign language is to learn from a native speaker. La mayoría de la gente dice que la mejor manera de aprender una lengua extranjera es aprender de un hablante nativo.\n",
            "\n",
            "The ability to work hard is an admirable quality, but the ability to relax is equally important. La capacidad de trabajar duro es una característica admirable, pero la capacidad de relajarse es igualmente importante.\n",
            "\n",
            "Tom says he can't understand how Mary manages to make so much money working only one day a week. Tom dice que no logra entender cómo se las apaña Mary para ganar tanto dinero trabajando sólo un día a la semana.\n",
            "\n",
            "Carbon monoxide is a poisonous substance formed by the incomplete combustion of carbon compounds. El monóxido de carbono es una sustancia venenosa formada a partir de la combustión incompleta de compuestos de carbono.\n",
            "\n",
            "Tom gave a famous singer ten thousand dollars to come to the restaurant to sing \"Happy Birthday.\" Tom le dio diez mil dólares a un famoso cantante para que viniera al restaurante a cantar el \"cumpleaños feliz\".\n",
            "\n",
            "When you have eliminated the impossible, whatever remains, however improbable, must be the truth. Una vez eliminado lo imposible, lo que queda, sin importar lo improbable que sea, debe de ser la verdad.\n",
            "\n",
            "Foods rich in vitamin E include dark-green, leafy vegetables, beans, nuts and whole-grain cereals. Los alimentos ricos en vitamina incluyen los vegetales de color verde oscuro, de hoja, alubias, frutos secos y los cereales integrales.\n",
            "\n",
            "From personal experience, I know that any encounter with him will leave a bad taste in your mouth. A partir de mi experiencia personal, yo sé que cualquier encuentro con él te dejará un mal gusto en la boca.\n",
            "\n",
            "Give a man a fish and you feed him for a day. Teach a man to fish and you feed him for a lifetime. Dale un pescado a un hombre y lo alimentarás por un día. Enséñale a pescar y lo alimentarás por el resto de su vida.\n",
            "\n",
            "I heard that one way to stay healthy is to avoid eating any food with unpronounceable ingredients. He oído que una manera de estar sano es evitar comer cualquier alimento con ingredientes impronunciables.\n",
            "\n",
            "I've kept my weight down even though many of my friends have gained weight as they've grown older. He mantenido mi peso bajo, a pesar de que muchos de mis amigos han aumentado de peso mientras se hacían mas viejos.\n",
            "\n",
            "Tom told Mary that he thought a hippopotamus could run at a speed of about 30 kilometers per hour. Tom le dijo a Mary que pensaba que un hipopótamo podía correr a una velocidad de unos 30 kilómetros por hora.\n",
            "\n",
            "You know that your English is good when people stop complimenting you on how good your English is. Sabes que tu inglés es bueno cuando la gente para de hacerte cumplidos sobre lo bueno que es tu inglés.\n",
            "\n",
            "I can't change the direction of the wind, but I can adjust my sails to always reach my destination. No puedo cambiar la dirección del viento, pero sí ajustar mis velas para llegar siempre a mi destino.\n",
            "\n",
            "Scientists continue to discover new medicines, so there is always hope for people who are in comas. Los científicos siguen descubriendo nuevas medicinas, por lo tanto, siempre hay esperanza para las personas que están en coma.\n",
            "\n",
            "Since in this organization they're all chiefs and no Indians, it's a wonder any decisions get made. Ya que en esta organización todos son caciques y no hay indios, es de extrañar que cualquier decisión se materialice.\n",
            "\n",
            "Tom did everything within his power to save the children that were trapped in the burning building. Tom hizo todo lo que estuvo a su alcance para salvar a los niños atrapados en el edificio en llamas.\n",
            "\n",
            "I think it's unlikely that aliens similar to what we see in the movies have ever visited our planet. Pienso que es improbable que extraterrestres similares a los que vemos en las películas hayan visitado nuestro planeta alguna vez.\n",
            "\n",
            "There have been a lot of complaints from consumers that our products don't last as long as we claim. Han habido muchas quejas de parte de los consumidores de que nuestros productos no duran tanto como nosotros proclamamos.\n",
            "\n",
            "In order to get some information about Japanese economic problems, you'll find this book very useful. A fin de obtener algo de información sobre los problemas económicos japoneses, encontrarás este libro muy útil.\n",
            "\n",
            "The pledge to stop smoking cigarettes ranks among the top ten New Year's resolutions year after year. La promesa de dejar de fumar se situa entre las diez primeras resoluciones del nuevo año, año tras año.\n",
            "\n",
            "Tom did everything within his power to keep Mary from being elected president of the student council. Tom hizo todo lo que estuvo a su alcance para evitar que Mary fuera elegida presidente del consejo de estudiantes.\n",
            "\n",
            "Tom wondered why many people in America think that baseball is more interesting to watch than soccer. Tom se preguntó por qué mucha gente en los Estados Unidos piensa que es más interesante ver béisbol que fútbol.\n",
            "\n",
            "\"If you're tired, why don't you go to sleep?\" \"Because if I go to sleep now I will wake up too early.\" \"Si estás cansado, ¿por qué no te vas a dormir?\" \"Porque si me voy a dormir ahora, me despertaré demasiado pronto.\"\n",
            "\n",
            "\"If you're tired, why don't you go to sleep?\" \"Because if I go to sleep now I will wake up too early.\" \"Si estás cansado, ¿por qué no vas a dormir?\" \"Porque si voy a dormir ahora, me voy a despertar muy temprano.\"\n",
            "\n",
            "A young boy, who couldn't have been more than five years old, asked Tom how to get to the post office. Un jovencito, que no podía haber sido de más de cinco años, le preguntó a Tom cómo llegar a la oficina de correos.\n",
            "\n",
            "I was just wondering if I could borrow three hundred dollars from you. I can pay you back next Monday. Sólo me preguntaba si podrías prestarme trescientos dólares. Puedo devolvértelos el lunes que viene.\n",
            "\n",
            "Some people consider it a waste of time to study languages such as Klingon, Interlingua and Esperanto. Algunas personas consideran una pérdida de tiempo estudiar idiomas tales como klingon, interlingua, y esperanto.\n",
            "\n",
            "The Super Nintendo's graphics are amazing. They're so much better than those of the original Nintendo. Las gráficas del Super Nintendo son sorprendentes. Son mucho mejores que las del Nintendo original.\n",
            "\n",
            "The iPad would be a perfect solution for me if it could properly display web pages with Flash content. La iPad sería la solución perfecta para mí si pudiera mostrar correctamente las páginas web que tienen contenidos con Flash.\n",
            "\n",
            "Tom was determined not to make the same mistakes with his children that his parents had made with him. Tom estaba decidido a no cometer con sus hijos los mismos errores que sus padres habían cometido con él.\n",
            "\n",
            "When you watch television or listen to the radio, the music which you hear is often African in origin. Cuando ves televisión o escuchas la radio, la música que oyes es frecuentemente de origen africano.\n",
            "\n",
            "You should make sure that you get there on time. Tom won't wait more than ten minutes if you are late. Deberías asegurarte de que llegarás allí a tiempo. Tom no aguardará más de diez minutos si llegas tarde.\n",
            "\n",
            "\"If you're not happy with your purchase, you can return it at any time.\" \"Could I get that in writing?\" \"Si no está satisfecho con su compra, puede devolverla en cualquier momento.\" \"¿Podría tener eso por escrito?\"\n",
            "\n",
            "Disconnect the power cable from the modem, wait for approximately one minute, then reconnect the cable. Desconecte el cable de poder del modem, espere aproximadamente un minuto, luego vuelva a conectar el cable.\n",
            "\n",
            "I look for all the world like an athlete in this outfit, but the truth is I don't do any sports at all. Escudriño todo el mundo como un atleta en este conjunto, pero la verdad es que no hago ningún deporte en absoluto.\n",
            "\n",
            "The attitude of the court toward young criminals is different from its attitude toward adult criminals. La actitud de la corte hacia los criminales jóvenes es diferente de su actitud hacia los criminales adultos.\n",
            "\n",
            "There were three hundred cardboard boxes filled with old clothes ready to be sent to the disaster area. Había trescientas cajas de cartón llenas de ropa vieja preparadas para ser enviadas al área afectada.\n",
            "\n",
            "Tom felt the stiffness in his joints as he stood up after sitting in the same position for a long time. Tom sintió la rigidez en sus articulaciones cuando se levantó después de estar sentado en la misma posición durante largo tiempo.\n",
            "\n",
            "Tom prefers to take a shower in the morning while Mary prefers to take a bath just before going to bed. Tom prefiere ducharse en la mañana, mientras que María prefiere tomar un baño justo antes de ir a la cama.\n",
            "\n",
            "Tom sprang out of bed, threw on some clothes, ate breakfast and was out of the door within ten minutes. Tom saltó de la cama, se puso algo de ropa, se comió el desayuno y estuvo fuera de casa en solo diez minutos.\n",
            "\n",
            "If you'd told me about it earlier, I could've been free. However, tomorrow I have plans to go back home. Si me hubieras hablado antes al respecto, yo podría haber estado libre. Como sea, mañana tengo planes de volver a casa.\n",
            "\n",
            "On school nights, Tom goes to bed at nine o'clock, but on Fridays and Saturdays, he stays up much later. Las noches antes de un día de colegio, Tom se va a la cama a las nueve en punto, pero los viernes y los sábados, se queda levantado hasta mucho más tarde.\n",
            "\n",
            "Some people think that it is difficult for a native speaker of English to learn Chinese, but I disagree. Algunas personas piensan que es difícil para un hablante de inglés nativo aprender chino, pero yo estoy en desacuerdo.\n",
            "\n",
            "The world's greatest singers and most of its famous musicians have been fat or at least decidedly plump. Los cantantes más grandes del mundo y la mayoría de los músicos famosos han estado gordos, o al menos han estado claramente entrados en carne.\n",
            "\n",
            "During hard times, people might not go on a trip, but they might be willing to pay extra for good coffee. En tiempos difíciles, las personas pueden no hacer un viaje, pero pueden estar dispuestas a pagar extra por un buen café.\n",
            "\n",
            "If you watch the sun setting on a warm, damp day, you can see the moisture changing the shape of the sun. Si se mira la puesta de sol en un día caluroso y húmedo, se puede ver la humedad cambiando la forma del sol.\n",
            "\n",
            "Some superstitious people in America believe that if a black cat crosses your path, you'll have bad luck. Algunas personas supersticiosas de Estados Unidos creen que si un gato negro cruza su camino, tendrán mala suerte.\n",
            "\n",
            "The trouble with the world isn't that people know too little, but they know so many things that ain't so. El problema con el mundo no es que la gente sepa muy poco, sino que saben demasiadas cosas que no son verdad.\n",
            "\n",
            "The worst-case scenario is that Tom will lose his job and won't be able to keep up his mortgage payments. El peor escenario posible es que Tom pierda su trabajo y no sea capaz de seguir pagando su hipoteca.\n",
            "\n",
            "Thomas A. Edison so loves his work that he sleeps an average of less than four hours of each twenty-four. Thomas A. Edison ama tanto su trabajo, que duerme un promedio de menos de cuatro horas cada veinticuatro.\n",
            "\n",
            "We were unsure what kind of person Tom would be and whether he would like living in the same house as us. No estábamos seguros de qué clase de persona sería Tom ni si le gustaría vivir en la misma casa que nosotros.\n",
            "\n",
            "What's important isn't which university you've graduated from, but what you learned while you were there. Lo que importa no es en qué universidad te has licenciado, sino lo que aprendiste mientras estabas allí.\n",
            "\n",
            "If your spouse is a politician, then likely your name will also appear in the newspaper from time to time. Si tu cónyuge es un político, entonces probablemente tu nombre también aparecerá en el periódico de vez en cuando.\n",
            "\n",
            "Last year, I spent so much time by myself that I almost forgot how to communicate effectively with others. El año pasado pasé tanto tiempo solo que casi se me olvidó cómo comunicarme de una manera eficaz con los otros.\n",
            "\n",
            "Tom asked Mary a few questions that she couldn't answer, but she was able to answer most of his questions. Tom preguntó a Mary unas pocas cuestiones que no supo contestar, pero ella fue capaz de responder a la mayoría de sus preguntas.\n",
            "\n",
            "Tom couldn't hear what the teacher was saying because all of the other students were making so much noise. Tom no podía escuchar lo que el profesor estaba diciendo porque todos los demás estudiantes estaban haciendo demasiado ruido.\n",
            "\n",
            "We were unsure what kind of person Tom would be and whether he would like to live in the same house as us. No estábamos seguros de qué tipo de persona podía ser Tom y si a él le gustaría vivir en la misma casa que a nosotros.\n",
            "\n",
            "When I woke up today, I yawned, stretched, rubbed the sleep out of my eyes, and put on a pair of slippers. Hoy cuando me desperté, bostecé, me estiré, me quité las legañas de los ojos y me puse las zapatillas de estar en casa.\n",
            "\n",
            "Cats are like girls. If they talk to you it's great, but if you try to talk to them, it doesn't go so well. Los gatos son como las chicas. Si te hablan es genial, pero si tratas de hablar con ellas, no sale tan bien.\n",
            "\n",
            "He began to suspect something was wrong when the seller didn't allow him to test the item before buying it. Él empezó a sospechar que algo iba mal cuando el vendedor no le permitió probar el objeto antes de comprarlo.\n",
            "\n",
            "He got tired of being the devil's advocate and now agrees with every idea they suggest, no matter how dumb. Se cansó de ser el abogado del diablo y ahora acepta cualquier idea que sugieran, sin importar lo estúpida que sea.\n",
            "\n",
            "There have been a lot of complaints recently about drivers not obeying the speed limits in downtown Boston. Ha habido un montón de quejas últimamente de que los conductores no respetan los límites de velocidad en el centro de Boston.\n",
            "\n",
            "We're gonna make sure that no one is taking advantage of the American people for their own short-term gain. Nos estamos asegurando de que nadie se esté aprovechando del pueblo americano para su propio interés a corto plazo.\n",
            "\n",
            "Why did I buy flowers? Is that what you just said? It's really noisy here so I couldn't hear you very well. ¿Por qué compré flores? ¿Es eso lo que tú dijiste? Está verdaderamente ruidoso aquí, así que no te oí muy bien.\n",
            "\n",
            "I like to feel sad. I know that most people try to avoid any kind of sad feeling. But I think that is wrong. Me gusta estar triste. Sé que la mayoría de las personas intentan evitar cualquier tipo de sentimiento de tristeza. Pero yo pienso que eso está mal.\n",
            "\n",
            "I talked with Tom for over an hour before he said something that made me realize he wasn't a native speaker. Hablé con Tom por más de una hora hasta que él dijo algo que hizo darme cuente de que él no era un hablante nativo.\n",
            "\n",
            "Eight years ago, we were in the early stages of what would become the worst economic crisis of our lifetimes. Hace ocho años estábamos en los albores de lo que llegaría a ser la peor crisis económica de nuestra vida.\n",
            "\n",
            "I don't think it's necessary for me to sound like a native speaker, I just want to be able to speak fluently. No creo que sea necesario que yo hable como un hablante nativo, tan sólo quiero poder hablar fluidamente.\n",
            "\n",
            "I don't think there is any excuse for his behavior. At the same time, we should listen to what he has to say. No creo que haya alguna excusa para su comportamiento. Al mismo tiempo, deberíamos escuchar lo que él tenga que decir.\n",
            "\n",
            "If you don't start treating people with a little more respect, people may start avoiding you like the plague. Si no empiezas a tratar a la gente con un poco más de respeto, la gente podría comenzar a evitarte como a la plaga.\n",
            "\n",
            "It is easier for a camel to pass through the eye of a needle than for a rich man to enter the kingdom of God. Es más fácil que un camello pase por el ojo de una aguja que que un rico entre en el Reino de Dios.\n",
            "\n",
            "It's hard to be a woman. One must think like a man, act like a lady, look like a girl, and work like a horse. Ser mujer es difícil. Hay que pensar como hombre, actuar como una dama, verse como una niña y trabajar como caballo.\n",
            "\n",
            "A lot of banging and cussing could be heard coming out of the garage when Tom was trying to fix the lawnmower. Un montón de golpes e imprecaciones podían oírse del garaje cuando Tom estaba tratando de reparar la cortadora de césped.\n",
            "\n",
            "I can't believe that you aren't at least willing to consider the possibility that there's another explanation. No puedo creer que ni estés dispuesto a considerar la posibilidad de que haya otra explicación.\n",
            "\n",
            "It doesn't make sense to criticize someone for doing something that we would do if we were in their situation. No tiene sentido criticar a alguien por hacer algo que haríamos nosotros si estuviésemos en su caso.\n",
            "\n",
            "It doesn't make sense to criticize someone for doing something that we would do if we were in their situation. No tiene sentido criticar a alguien por hacer algo que haríamos nosotros si estuviésemos en su situación.\n",
            "\n",
            "Masculine qualities in a woman are seen as strength, while feminine qualities in a man are viewed as weakness. Atributos masculinos en una mujer son vistos como fuerza, por el contrario, atributos femeninos en un hombre son vistos como debilidad.\n",
            "\n",
            "The graphic description of the victim's murder was too much for his mother, who ran out of the court in tears. La descripción gráfica del asesinato de la víctima fue muy dura para su madre, quien salió llorando de la corte.\n",
            "\n",
            "Even though Tom told Mary about his problem, he didn't want to listen to any advice she had on how to solve it. Aún si Tom le contó a Mary acerca de su problema, él no quería escuchar ningún consejo que ella tuviera para resolverlo.\n",
            "\n",
            "I realize I may not be the most desirable man in the world, but I still hope you'll consider going out with me. Me doy cuenta de que puede que no sea el hombre más atractivo en el mundo, pero aún así espero que consideres salir conmigo.\n",
            "\n",
            "In preparation for painting a portrait, my friend takes many photographs in order to study the subject closely. Como preparación para pintar un retrato, mi amigo toma muchas fotografías con el fin de estudiar el tema de cerca.\n",
            "\n",
            "Life would be infinitely happier if we could only be born at the age of eighty and gradually approach eighteen. La vida sería infinitamente más feliz si pudiéramos nacer a la edad de ochenta años y gradualmente llegar a los dieciocho.\n",
            "\n",
            "People often lie about what they did on the weekend, so their friends won't realize how boring they really are. La gente a menudo miente acerca de lo que hicieron el fin de semana para que sus amigos no se den cuenta de lo aburridos que en realidad son.\n",
            "\n",
            "Something you should know about me is that my greatest fear in life is that people will find out that I'm poor. Algo que deberías saber acerca de mí es que mi mayor temor en la vida es que la gente averigüe que yo soy pobre.\n",
            "\n",
            "Tom pressed his ear against the wall to see if he could hear what his parents were discussing in the next room. Tom puso su oído contra la pared para ver si podía oír lo que sus padres estaban discutiendo en la pieza contigua.\n",
            "\n",
            "Tom was obsessed by the belief that, one by one, everyone around him was being abducted and replaced by aliens. Tom estaba obsesionado con la creencia de que, uno por uno, todos los que le rodeaban eran abducidos y reemplazados por extraterrestres.\n",
            "\n",
            "I know that it is highly unlikely that you'd ever want to go out with me, but I still need to ask at least once. Sé que es muy improbable que tú alguna vez quisieras salir conmigo, pero aún así tengo que preguntar al menos una vez.\n",
            "\n",
            "Acting on advice from his astronomers, Alexander the Great decided not to attack Egypt and went to India instead. Actuando bajo el concejo de sus astrónomos, Alejandro Magno decidió no atacar Egipto, y en su lugar fue a India.\n",
            "\n",
            "I came here to see if there was something I could do to help, but there doesn't seem to be anything for me to do. Vine aquí para ver si había algo que pudiera hacer para ayudar, pero parece que no hay nada para que yo haga.\n",
            "\n",
            "I know you're upset about your car being totaled, but you weren't injured and you should be thankful to be alive. Sé que estás molesto porque tu carro quedó destrozado, pero saliste ileso y deberías estar feliz que estás vivo.\n",
            "\n",
            "I know you're upset about your car being totaled, but you weren't injured and you should be thankful to be alive. Sé que está molesto porque su carro quedó destrozado, pero salió ileso y debería estar feliz que está vivo.\n",
            "\n",
            "I know you're upset about your car being totaled, but you weren't injured and you should be thankful to be alive. Sé que estás molesta porque tu carro quedó destrozado, pero saliste ilesa y deberías estar feliz que estás viva.\n",
            "\n",
            "The World Health Organization says alcohol abuse is the third leading cause of death and disability in the world. La Organización Mundial de la Salud dice que el abuso de alcohol es la tercera mayor causa de muerte e invalidez en el mundo.\n",
            "\n",
            "Babies can become dehydrated from a high fever, so I was told that it would be better to send him to the hospital. Los bebés se pueden deshidratar por causa de una fiebre demasiado alta, de modo que me dijeron que sería mejor llevarlo al hospital.\n",
            "\n",
            "Did you know that in Japan, if you have a tattoo, you won't be allowed to bathe in many of the hot spring resorts? ¿Sabías que en Japón, si llevas un tatuaje, no te permitirán que te bañes en muchos de los balnearios de aguas termales?\n",
            "\n",
            "Everybody has a right to his own opinion. However, sometimes it's better not to tell anybody what that opinion is. Todos tienen derecho a su opinión propia. Sin embargo, a veces es mejor no decirle a nadie cuál es esa opinión.\n",
            "\n",
            "The Himalayas were formed by the collision of the tectonic plates of India and Eurasia about 50 million years ago. El Himalaya se formó por la colisión de las placas tectónicas de la India y Eurasia hace alrededor de 50 millones de años.\n",
            "\n",
            "The police can't find a single person who remembers seeing you where you said you were on the night of the murder. La policía no puede encontrar ni a una persona que recuerde haberte visto donde dijiste que estabas la noche del asesinato.\n",
            "\n",
            "Tom likes Mary, but Mary likes John. To make matters even more interesting, John likes Alice, but Alice likes Tom. A Tomás le gusta María, pero a María le gusta Juan. Para hacer las cosas aún más interesantes, a Juan le gusta Alicia, pero a Alicia le gusta Tomás.\n",
            "\n",
            "Tom was sad when he discovered that Mary was a gold digger and Mary was sad when she discovered that Tom was poor. Tom se entristeció al descubrir que Mary era una buscadora de oro, y Mary se entristeció cuando supo que Tom era pobre.\n",
            "\n",
            "What kind of a parent would leave their child unattended in the car outside the pub while they're inside drinking? ¿Qué tipo de padre dejaría a su hijo desatendido en el coche fuera del pub, mientras ellos están dentro bebiendo?\n",
            "\n",
            "Witnesses told police that the train was travelling way over the speed limit when it derailed going around a bend. Los testigos le dijeron a la policía que el tren iba a la velocidad por encima del límite cuando descarriló al girar la próxima curva.\n",
            "\n",
            "The Belo Monte dam in Brazil is a controversial project because of its impact on the environment and native people. La represa Belo Monte en Brasil, es un proyecto controvertido, debido al impacto sobre el medio ambiente y la población nativa.\n",
            "\n",
            "Tom's constant arguing irritates some of his classmates. However, most of the class has just learned to ignore him. Las constantes discusiones de Tom irritan a algunos de sus compañeros. Sin embargo la mayoría de la clase ya aprendió a ignorarlo.\n",
            "\n",
            "\"How's the trouble and strife?\" is an example of a sentence using Cockney rhyming slang. It means \"How's your wife?\" ¿Cómo es el problema y el conflicto? es un ejemplo de una oración usando la jerga de rimado de Cockney. Significa ¿Cómo está tu mujer?\n",
            "\n",
            "Getting your message across is much more important than trying to say it exactly like a native speaker would say it. Hacer llegar tu mensaje es mucho más importante que tratar de decirlo exactamente como lo haría un hablante nativo.\n",
            "\n",
            "Over 100 tons of dust and sand-sized particles bombard the earth every day from space, most of which goes unnoticed. Más de 100 toneladas de polvo y partículas del tamaño de un grano de arena bombardean la Tierra todos los días desde el espacio, la mayoría de las cuales pasa desapercibida.\n",
            "\n",
            "Over 100 tons of dust and sand-sized particles bombard the earth every day from space, most of which goes unnoticed. Más de 100 toneladas de polvo y partículas del tamaño de un grano de arena bombardean la Tierra todos los días desde el espacio, la mayoría de las cuales pasa inadvertida.\n",
            "\n",
            "The typical elements of a foreign culture are changed into the typical elements of the local culture of translators. Los aspectos típicos de una cultura ajena cambian por los aspectos típicos de la cultura local de los traductores.\n",
            "\n",
            "Tom tried to sell his old VCR instead of throwing it away, but no one would buy it, so he ended up throwing it away. Tom trató de vender su viejo reproductor de vídeo en lugar de tirarlo a la basura, pero nadie lo compró, por lo que terminó tirándolo a la basura.\n",
            "\n",
            "A man touched down on the moon. A wall came down in Berlin. A world was connected by our own science and imagination. Un hombre pisó la luna. Una muralla cayó en Berlín. Un mundo hizo conexión gracias a nuestra propia ciencia e imaginación.\n",
            "\n",
            "A man touched down on the moon. A wall came down in Berlin. A world was connected by our own science and imagination. Un hombre pisó la luna. Un muro cayó en Berlín. Un mundo fue conectado por medio de nuestra propia ciencia e imaginación.\n",
            "\n",
            "Being happy doesn't mean that everything is perfect, but rather that you've decided to look beyond the imperfections. Ser feliz no significa que todo sea perfecto, sino que decidiste ver más allá de las imperfecciones.\n",
            "\n",
            "Dr. Zamenhof believed that a language belongs to the people who speak it which is why he never copyrighted Esperanto. El Dr. Zamenhof creyó que un lenguaje le pertenece a la gente quien lo habla, y es por eso que él nunca registró los derechos de autor del Esperanto.\n",
            "\n",
            "Every student who has graduated from our university has studied English with a native speaker for at least two years. Todo estudiante que se ha graduado de nuestra universidad ha estudiado inglés con un hablante nativo por al menos dos años.\n",
            "\n",
            "If you don't want to put on sunscreen, that's your problem. Just don't come complaining to me when you get a sunburn. Si no quieres ponerte protector solar es tu problema, pero no vengas a quejarte conmigo cuando tengas quemaduras de sol.\n",
            "\n",
            "It took Tom several hours to assemble a bunk bed that the instructions said would take less than an hour to assemble. Le llevó a Tom varias horas ensamblar una cama litera que las instruccciones decían que lleva menos de una hora de montaje.\n",
            "\n",
            "Nobody has asked you to agree, but can't you at least accept that there are people who hold different views from you? Nadie te ha pedido que estés de acuerdo, pero ¿no puedes aceptar al menos que hay gente que tiene un punto de vista diferente del tuyo?\n",
            "\n",
            "Tom didn't know the meaning of \"anglophobia,\" so he did a quick web search to see if he could find out what it meant. Tom no sabía el significado de \"anglofobia,\"así que hizo una búsqueda rápida en la web para ver si podía encontrar qué significaba.\n",
            "\n",
            "Even though computer programmers may use semicolons every day, nowadays most people only use semicolons for emoticons. Aunque los programadores utilizan a diario el punto y coma, actualmente la mayoría de las personas usan el punto y coma sólo para los emoticones.\n",
            "\n",
            "I had never eaten any kind of Thai food, so I was pretty excited about going to a Thai restaurant with my grandmother. Yo nunca había comido ninguna clase de comida thai, así que estaba muy emocionado de ir a un restaurante thai con mi abuela.\n",
            "\n",
            "The room didn't look very good after Tom painted it, because he didn't even bother to wash the walls or ceiling first. La habitación no se ve muy bien después de que Tom la pintó, ya que previamente ni siquiera se preocupó por lavar las paredes o el techo.\n",
            "\n",
            "\"When does your sister come back from work?\" \"I don't know, but I think she'll arrive at home a few minutes before me.\" \"¿Cuándo vuelve tu hermana de trabajar?\" \"No sé, pero creo que va a llegar a casa un par de minutos antes de mí.\"\n",
            "\n",
            "Four of my favorite Christmas carols are \"Silent Night,\" \"Joy to the World,\" \"The First Noel\" and \"Away in the Manger.\" Cuatro de mis villancicos favoritos son \"Noche de Paz,\" \"¡Regocijad! Jesús Nació,\" \"La Primera Navidad\" y \"Venid Pastorcillos.\"\n",
            "\n",
            "Four of my favorite Christmas carols are \"Silent Night,\" \"Joy to the World,\" \"The First Noel\" and \"Away in the Manger.\" Cuatro de mis villancicos favoritos son \"Noche de Luz,\" \"¡Regocijad! Jesús Nació,\" \"La Primera Navidad\" y \"Jesús en Pesebre.\"\n",
            "\n",
            "My friend recommended that I shouldn't buy an iPad yet, but to wait until I see what Apple's competitors come out with. Mi amigo me recomendó que no debería comprar un iPad por ahora, sino esperar hasta ver qué sacan los competidores de Apple.\n",
            "\n",
            "Roger Miller entered the United States Army at the age of seventeen. He was sent to an army base near Atlanta, Georgia. Roger Miller ingresó en el Ejército de los Estados Unidos a los diecisiete años. Fue enviado a una base militar cerca de Atlanta, Georgia.\n",
            "\n",
            "A trade delegation has gone to Japan ahead of the Prime Minister to crunch the numbers with their Japanese counterparts. Una delegación comercial ha ido a Japón, por delante del primer ministro, para cuadrar los números con sus homólogos japoneses.\n",
            "\n",
            "Anyone whose comfort level depends on what someone else is wearing really needs to take a long, hard look at themselves. Cualquier persona cuyo nivel de comodidad dependa de lo que los demás estén vistiendo realmente necesita echarse una larga y escrutadora mirada a sí mismo.\n",
            "\n",
            "I think it's highly unlikely that Tom was not aware that he wouldn't be allowed to enter the museum without his parents. Creo que es muy improbable que Tom no fuera consciente de que no se le permitiría entrar al museo sin sus padres.\n",
            "\n",
            "I was lucky that the policeman didn't give me a ticket for making a U-turn at an intersection that had a no U-turn sign. Tuve suerte de que el policía no me diera una multa por dar una vuelta en U en una intersección que no tenía una señal de vuelta en U.\n",
            "\n",
            "Tom isn't your average guy. He doesn't like things most guys like and he doesn't like to do things most men enjoy doing. Tom no es el tipo promedio. A él no le gustan las cosas que a la mayoría les gusta y no le gusta hacer lo que los demás hombres disfrutan haciendo.\n",
            "\n",
            "Cesar Chavez asked that strikers remain non-violent even though farm owners and their supporters sometimes used violence. César Chávez pidió a los manifestantes que se mantuvieran pacíficos aunque los dueños de las granjas y sus seguidores a veces usaran la violencia.\n",
            "\n",
            "Even now, I occasionally think I'd like to see you. Not the you that you are today, but the you I remember from the past. Incluso ahora, a veces pienso que me gustaría verte. No como eres hoy, sino como te recuerdo.\n",
            "\n",
            "We should spend our time creating content for our website rather than wasting time worrying about minor cosmetic details. Deberíamos ocupar nuestro tiempo creando contenidos para nuestro sitio web en vez de perder tiempo preocupándonos de detalles cosméticos menores.\n",
            "\n",
            "A lot of people who have up until now been spending money having a good time now need to be more careful with their money. Muchas personas que hasta ahora se han pasado gastando dinero en pasar un buen rato ahora deben ser más cuidadosas con su dinero.\n",
            "\n",
            "It's very easy to sound natural in your own native language, and very easy to sound unnatural in your non-native language. Es muy fácil sonar natural en su lengua nativa y muy fácil sonar poco natural en su lengua no nativa.\n",
            "\n",
            "The difference between the right word and almost the right word is the difference between lightning and the lightning bug. La diferencia entre la palabra correcta y la casi correcta, es la misma que entre el rayo y la luciérnaga.\n",
            "\n",
            "The world's first Ferris wheel was built in Chicago. It was named after its contructor, George Washington Gale Ferris, Jr. La primera rueda de la fortuna del mundo fue construida en Chicago. Fue llamada en honor a su constructor, George Washington Gale Ferris Jr.\n",
            "\n",
            "Your English is grammatically correct, but sometimes what you say just doesn't sound like what a native speaker would say. Tu inglés es gramaticalmente correcto, pero a veces lo que dices no suena como lo que un nativo diría.\n",
            "\n",
            "I have Japanese and Chinese friends who speak to each other in English since that is the only language they have in common. Yo tengo amigos japoneses y chinos que se hablan entre ellos en inglés dado que esa es la única lengua que tienen en común.\n",
            "\n",
            "All the doctors say that I shouldn't drink coffee, but, despite that, I do have a bit now and then when I'm in good company. Todos los doctores dicen que yo no debo tomar café, y sin embargo bebo un poco de vez en cuando en buena compañía.\n",
            "\n",
            "Make a good translation of the sentence that you are translating. Don't let translations into other languages influence you. Haz una buena traducción de la oración que estás traduciendo. No dejes que las traducciones a otras lenguas te influencien.\n",
            "\n",
            "One thing I don't like about the iPad is that you can't easily install apps that aren't available through Apple's App Store. Una cosa que no me gusta acerca del iPad es que no puedes instalar fácilmente apps que no estén disponibles a través del App Store de Apple.\n",
            "\n",
            "\"Jingle Bells,\" a popular song around Christmas time, is not really a Christmas song. The lyrics say nothing about Christmas. \"Jingle Bells,\" la popular canción en tiempos navideños, en realidad no es una canción navideña. La letra no dice nada sobre navidad.\n",
            "\n",
            "\"Jingle Bells,\" a popular song around Christmas time, is not really a Christmas song. The lyrics say nothing about Christmas. \"Jingle Bells\", la famosa canción navideña, en realidad no tiene nada de navideña. El texto no hace mención alguna de la Navidad.\n",
            "\n",
            "I used to watch this anime a lot when I was a kid, but I can't quite remember what happened to the hero in the final episode. Solía ver harto este animé cuando era niño, pero no recuerdo bien qué le pasaba al héroe en el último capítulo.\n",
            "\n",
            "If your company primarily does business with America, then you should be studying English with a native speaker from America. Si tu compañía primordialmente hace negocios con Estados Unidos, entonces debes de estudiar inglés con un hablante nativo de Estados Unidos.\n",
            "\n",
            "The English language is undoubtedly the easiest and at the same time the most efficient means of international communication. La lengua inglesa es sin lugar a dudas la más fácil y al mismo tiempo la más eficiente forma de comunicación internacional.\n",
            "\n",
            "Instead of giving each other Christmas presents this year, we donated the amount we would have spent on presents to a charity. En lugar de hacernos mutuamente regalos de Navidad este año, donamos la cantidad que habríamos gastado en regalos para obras de caridad.\n",
            "\n",
            "Singer and actress Selena Gomez started her career at age seven on the children's public television show \"Barney and Friends.\" La cantante y actriz Selena Gomez empezó su carrera a los siete años en el espectáculo infantil de la televisión pública \"Barney y amigos\".\n",
            "\n",
            "A good newspaper reporter takes advantage of what he learns from any source, even the \"little bird told him so\" type of source. Un buen reportero se aprovecha de lo que obtiene de cualquier fuente, incluso de las del tipo \"me lo ha dicho un pajarito\".\n",
            "\n",
            "Food prices are at their highest level since the United Nations Food and Agriculture Organization began keeping records in 1990. El precio de los alimentos está en su nivel más alto desde que la Organización de Comida y Agricultura de las Naciones Unidas comenzó a registrarlos en 1990.\n",
            "\n",
            "I've heard that it's impossible to sound like a native speaker unless one starts speaking the language before the age of twelve. Oí que es imposible sonar como un hablante nativo a menos que uno empiece a hablar la lengua antes de los doce años.\n",
            "\n",
            "No matter what your profession, or how happy you may be in it, there are moments when you wish you had chosen some other career. Sea cual sea tu profesión y lo feliz que seas en ella, habrá momentos en los que desearás haber elegido otra carrera.\n",
            "\n",
            "When Tom was a kid, he used to collect his father's cigarette butts until he had enough tobacco to roll a cigarette for himself. De chaval, Tom solía coger las colillas de su padre hasta juntar suficiente tabaco para poderse liar un cigarrillo.\n",
            "\n",
            "When Tom was a kid, he used to collect his father's cigarette butts until he had enough tobacco to roll a cigarette for himself. De chaval, Tom solía coger las colillas de su padre hasta juntar suficiente tabaco para poder liarse un cigarrillo.\n",
            "\n",
            "Satellite imagery is being used in an effort to narrow down the area in the Indian Ocean where floating debris has been observed. Se están usando imágenes de satélite en un intento de reducir el área del océano Índico donde se han observado restos flotantes.\n",
            "\n",
            "Honey, I know the budget is tight, but do you think we could splurge a bit and have a night out at a fancy restaurant this weekend? Cariño. Sé que el presupuesto es apretado pero, ¿crees que podríamos despilfarrar un poco y salir una noche a un restaurante lujoso este fin de semana?\n",
            "\n",
            "Tom went to a fortune teller at the town fair and was told that someone would come into his life whose first name started with \"M\". Tom fue a una adivina en la feria de la ciudad, la cual le dijo que alguien cuyo nombre empezaba con \"M\" iba a aparecer en su vida.\n",
            "\n",
            "A committee is a group of people who individually can do nothing, but who, as a group, can meet and decide that nothing can be done. Un comité es un grupo de personas que aisladamente nada pueden hacer, pero que como grupo pueden reunirse y decidir que nada puede hacerse.\n",
            "\n",
            "Oh, sure, I studied English in my school days. But it wasn't until two or three years ago that I really started taking it seriously. Oh, por supuesto, estudié inglés en la escuela. Pero no fue hasta hace un par de años o tres que realmente empecé a tomármelo en serio.\n",
            "\n",
            "In 1964, Roger Miller agreed to record sixteen songs. One of those songs was \"Dang Me.\" It became his first number one selling record. En 1964, Roger Miller acordó grabar dieciséis canciones. Una de esas canciones fue \"Maldíceme\". Se convirtió en su primer número uno de ventas.\n",
            "\n",
            "Tom hadn't washed clothes in a long time, so he searched through his dirty clothes to see if there was something clean enough to wear. Ya desde hace mucho tiempo que Tom no lavaba ropa, así que él buscaba en su ropa sucia para ver si había algo lo suficientemente limpio que pudiera ponerse.\n",
            "\n",
            "One way to lower the number of errors in the Tatoeba Corpus would be to encourage people to only translate into their native languages. Una forma de reducir el número de errores en el Corpus de Tatoeba sería fomentar que la gente tradujera únicamente a su lengua materna.\n",
            "\n",
            "I want a religion that respects the differences that exist between people and that states that each individual has their own personality. Quiero una religión que respete las diferencias que existen entre la gente y que afirme que cada individuo tiene su propia personalidad.\n",
            "\n",
            "She has a boyfriend she's been going out with since high school, but she feels their relationship is in a rut, so she's become discontented. Ella tiene un novio con el que ha estado saliendo desde el instituto, pero siente que su relación está estancada, así que ha terminado en un estado de apatía.\n",
            "\n",
            "Always use distilled water in steam irons because using ordinary water will cause a mineral build-up over time that will clog the steam holes. Usa siempre agua destilada en las planchas de vapor, porque el agua común y corriente con el tiempo provocará que una acumulación de minerales tape los huecos de vapor.\n",
            "\n",
            "I think it's a shame that some foreign language teachers were able to graduate from college without ever having studied with a native speaker. Creo que es una vergüenza que algunos profesores de lengua extranjera hayan podido graduarse de la universidad sin nunca haber estudiado con un hablante nativo.\n",
            "\n",
            "You can fool some of the people all of the time, and all of the people some of the time, but you can't fool all of the people all of the time. Se puede engañar a algunas personas durante todo el tiempo y a todas las personas por algún tiempo, pero no se puede engañar a todo el mundo todo el tiempo.\n",
            "\n",
            "If you translate from your second language into your own native language, rather than the other way around, you're less likely to make mistakes. Si traduces desde tu segunda lengua a tu lengua materna, más que al revés, es menos probable que cometas fallos.\n",
            "\n",
            "People speak so much about the need for leaving a better planet for our children, and forget the urgency of leaving better children for our planet. La gente habla tanto de que necesitan dejar un mejor planeta para nuestros hijos, y se olvidan de la urgencia de dejar mejores niños para nuestro planeta.\n",
            "\n",
            "The Australian Prime Minister has said that he does not intend to engage in megaphone diplomacy with Egypt over the jailing of an Australian journalist. El primer ministro australiano ha dicho que no va a iniciar una escaramuza diplomática por el encarcelamiento de un periodista australiano.\n",
            "\n",
            "You may not learn to speak as well as a native speaker, but you should be able to speak well enough that native speakers will understand what you have to say. Puede que no aprendas a hablar tan bien como un hablante nativo, pero deberías ser capaz de hablar lo suficientemente bien para que los hablantes nativos entiendan lo que tengas que decir.\n",
            "\n",
            "If a person has not had a chance to acquire his target language by the time he's an adult, he's unlikely to be able to reach native speaker level in that language. Si una persona no ha tenido la oportunidad de adquirir su lengua meta antes de llegar a adulto, es improbable que llegue a alcanzar el nivel de un hablante nativo en esa lengua.\n",
            "\n",
            "It's still too hard to find a job. And even if you have a job, chances are you're having a tougher time paying the rising costs of everything from groceries to gas. Todavía es demasiado difícil encontrar un trabajo. E incluso si tienes un trabajo, lo más probable es que las pases canutas para pagar el coste cada vez mayor de todo, desde la comida hasta el gas.\n",
            "\n",
            "You can't easily put photos on an iPad from more than one computer. However, you can email photos to yourself from various computers and download these photos to your iPad. Usted no puede poner fácilmente fotografías en un iPad de más de una computadora. Sin embargo, puede enviarse fotografías de varias computadoras y descargarlas a su iPad.\n",
            "\n",
            "You can't view Flash content on an iPad. However, you can easily email yourself the URLs of these web pages and view that content on your regular computer when you get home. Usted no puede ver contenido Flash en un iPad. Sin embargo, puede enviarse el URL de esas páginas web y ver el contenido en su computadora ordinaria al llegar a su hogar.\n",
            "\n",
            "You can't view Flash content on an iPad. However, you can easily email yourself the URLs of these web pages and view that content on your regular computer when you get home. No puedes ver contenido en Flash en un iPad. Sin embargo, puedes fácilmente enviarte por correo electrónico las URL's de esas páginas web y ver el contenido en tu computadora cuando llegas a casa.\n",
            "\n",
            "A mistake young people often make is to start learning too many languages at the same time, as they underestimate the difficulties and overestimate their own ability to learn them. Un error que cometen a menudo los jóvenes es el de comenzar a aprender demasiadas lenguas al mismo tiempo, porque subestiman sus dificultades y sobrestiman sus propias capacidades para aprenderlas.\n",
            "\n",
            "No matter how much you try to convince people that chocolate is vanilla, it'll still be chocolate, even though you may manage to convince yourself and a few others that it's vanilla. No importa cuánto insistas en convencer a la gente de que el chocolate es vainilla, seguirá siendo chocolate, aunque puede que te convenzas a ti mismo y a algunos otros de que es vainilla.\n",
            "\n",
            "In 1969, Roger Miller recorded a song called \"You Don't Want My Love.\" Today, this song is better known as \"In the Summer Time.\" It's the first song he wrote and sang that became popular. En 1969, Roger Miller grabó una canción llamada \"Tú no quieres mi amor\". Hoy, esta canción es más conocida como \"En el verano\". Es la primera canción que escribió y cantó que se convirtió popular.\n",
            "\n",
            "A child who is a native speaker usually knows many things about his or her language that a non-native speaker who has been studying for years still does not know and perhaps will never know. Un niño que es hablante nativo normalmente sabe muchas cosas acerca de su lengua que un hablante no nativo que lo haya estado estudiando durante muchos años no sabe todavía y que quizá no sabrá nunca.\n",
            "\n",
            "There are four main causes of alcohol-related death. Injury from car accidents or violence is one. Diseases like cirrhosis of the liver, cancer, heart and blood system diseases are the others. Hay cuatro causas principales de muertes relacionadas con el alcohol. Lesión por un accidente automovilístico o violencia es una. Enfermedades como cirrosis del hígado, cáncer, enfermedades del corazón y del sistema circulatorio son las otras.\n",
            "\n",
            "There are mothers and fathers who will lie awake after the children fall asleep and wonder how they'll make the mortgage, or pay their doctor's bills, or save enough for their child's college education. Hay madres y padres que se quedan despiertos después de que sus hijos se hayan dormido y se preguntan cómo conseguir pagar la hipoteca o las facturas del médico, o cómo ahorrar el suficiente dinero para la educación universitaria de sus hijos.\n",
            "\n",
            "A carbon footprint is the amount of carbon dioxide pollution that we produce as a result of our activities. Some people try to reduce their carbon footprint because they are concerned about climate change. Una huella de carbono es la cantidad de contaminación de dióxido de carbono que producimos como producto de nuestras actividades. Algunas personas intentan reducir su huella de carbono porque están preocupados acerca del cambio climático.\n",
            "\n",
            "Since there are usually multiple websites on any given topic, I usually just click the back button when I arrive on any webpage that has pop-up advertising. I just go to the next page found by Google and hope for something less irritating. Como suele haber varias páginas web sobre cualquier tema, normalmente sólo le doy al botón de retroceso cuando entro en una página web que tiene anuncios en ventanas emergentes. Simplemente voy a la siguiente página encontrada por Google y espero encontrar algo menos irritante.\n",
            "\n",
            "If you want to sound like a native speaker, you must be willing to practice saying the same sentence over and over in the same way that banjo players practice the same phrase over and over until they can play it correctly and at the desired tempo. Si quieres sonar como un hablante nativo, debes estar dispuesto a practicar diciendo la misma frase una y otra vez de la misma manera en que un músico de banjo practica el mismo fraseo una y otra vez hasta que lo puedan tocar correctamente y en el tiempo esperado.\n",
            "\n",
            "118964\n"
          ]
        }
      ]
    },
    {
      "cell_type": "code",
      "execution_count": null,
      "metadata": {
        "id": "rd0jw-eC3jEh"
      },
      "outputs": [],
      "source": [
        "# ユニコードファイルを ascii に変換\n",
        "def unicode_to_ascii(s):\n",
        "    return ''.join(c for c in unicodedata.normalize('NFD', s)\n",
        "        if unicodedata.category(c) != 'Mn')\n",
        "\n",
        "\n",
        "def preprocess_sentence(w):\n",
        "    w = unicode_to_ascii(w.lower().strip())\n",
        "\n",
        "    # 単語とそのあとの句読点の間にスペースを挿入\n",
        "    # 例：　\"he is a boy.\" => \"he is a boy .\"\n",
        "    # 参照：- https://stackoverflow.com/questions/3645931/python-padding-punctuation-with-white-spaces-keeping-punctuation\n",
        "    w = re.sub(r\"([?.!,¿])\", r\" \\1 \", w)\n",
        "    w = re.sub(r'[\" \"]+', \" \", w)\n",
        "\n",
        "    # (a-z, A-Z, \".\", \"?\", \"!\", \",\") 以外の全ての文字をスペースに置き換え\n",
        "    w = re.sub(r\"[^a-zA-Z?.!,¿]+\", \" \", w)\n",
        "\n",
        "    w = w.rstrip().strip()\n",
        "\n",
        "    # 文の開始と終了のトークンを付加\n",
        "    # モデルが予測をいつ開始し、いつ終了すれば良いかを知らせるため\n",
        "    w = '<start> ' + w + ' <end>'\n",
        "    return w"
      ]
    },
    {
      "cell_type": "code",
      "execution_count": null,
      "metadata": {
        "id": "opI2GzOt479E",
        "colab": {
          "base_uri": "https://localhost:8080/"
        },
        "outputId": "ca673763-6f26-4b58-fcde-4440239b5150"
      },
      "outputs": [
        {
          "output_type": "stream",
          "name": "stdout",
          "text": [
            "<start> may i borrow this book ? <end>\n",
            "b'<start> \\xc2\\xbf puedo tomar prestado este libro ? <end>'\n"
          ]
        }
      ],
      "source": [
        "en_sentence = u\"May I borrow this book?\"\n",
        "sp_sentence = u\"¿Puedo tomar prestado este libro?\"\n",
        "print(preprocess_sentence(en_sentence))\n",
        "print(preprocess_sentence(sp_sentence).encode('utf-8'))"
      ]
    },
    {
      "cell_type": "code",
      "execution_count": null,
      "metadata": {
        "id": "OHn4Dct23jEm"
      },
      "outputs": [],
      "source": [
        "# 1. アクセント記号を除去\n",
        "# 2. 文をクリーニング\n",
        "# 3. [ENGLISH, SPANISH] の形で単語のペアを返す\n",
        "def create_dataset(path, num_examples):\n",
        "    lines = io.open(path, encoding='UTF-8').read().strip().split('\\n')\n",
        "\n",
        "    word_pairs = [[preprocess_sentence(w) for w in l.split('\\t')]  for l in lines[:num_examples]]\n",
        "\n",
        "    return zip(*word_pairs)"
      ]
    },
    {
      "cell_type": "code",
      "execution_count": null,
      "metadata": {
        "id": "cTbSbBz55QtF",
        "colab": {
          "base_uri": "https://localhost:8080/"
        },
        "outputId": "afb9c6cd-e6f6-4d3a-ba30-995e62b5a2c1"
      },
      "outputs": [
        {
          "output_type": "stream",
          "name": "stdout",
          "text": [
            "<start> if you want to sound like a native speaker , you must be willing to practice saying the same sentence over and over in the same way that banjo players practice the same phrase over and over until they can play it correctly and at the desired tempo . <end>\n",
            "<start> si quieres sonar como un hablante nativo , debes estar dispuesto a practicar diciendo la misma frase una y otra vez de la misma manera en que un musico de banjo practica el mismo fraseo una y otra vez hasta que lo puedan tocar correctamente y en el tiempo esperado . <end>\n"
          ]
        }
      ],
      "source": [
        "en, sp = create_dataset(path_to_file, None)\n",
        "print(en[-1])\n",
        "print(sp[-1])"
      ]
    },
    {
      "cell_type": "code",
      "execution_count": null,
      "metadata": {
        "id": "OmMZQpdO60dt"
      },
      "outputs": [],
      "source": [
        "def max_length(tensor):\n",
        "    return max(len(t) for t in tensor)"
      ]
    },
    {
      "cell_type": "code",
      "execution_count": null,
      "metadata": {
        "id": "bIOn8RCNDJXG"
      },
      "outputs": [],
      "source": [
        "def tokenize(lang):\n",
        "  lang_tokenizer = tf.keras.preprocessing.text.Tokenizer(\n",
        "      filters='')\n",
        "  lang_tokenizer.fit_on_texts(lang)\n",
        "\n",
        "  tensor = lang_tokenizer.texts_to_sequences(lang)\n",
        "\n",
        "  tensor = tf.keras.preprocessing.sequence.pad_sequences(tensor,\n",
        "                                                         padding='post')\n",
        "\n",
        "  return tensor, lang_tokenizer"
      ]
    },
    {
      "cell_type": "code",
      "execution_count": null,
      "metadata": {
        "id": "eAY9k49G3jE_"
      },
      "outputs": [],
      "source": [
        "def load_dataset(path, num_examples=None):\n",
        "    # クリーニングされた入力と出力のペアを生成\n",
        "    targ_lang, inp_lang = create_dataset(path, num_examples)\n",
        "\n",
        "    input_tensor, inp_lang_tokenizer = tokenize(inp_lang)\n",
        "    target_tensor, targ_lang_tokenizer = tokenize(targ_lang)\n",
        "\n",
        "    return input_tensor, target_tensor, inp_lang_tokenizer, targ_lang_tokenizer"
      ]
    },
    {
      "cell_type": "markdown",
      "metadata": {
        "id": "GOi42V79Ydlr"
      },
      "source": [
        "### 実験を速くするためデータセットのサイズを制限（オプション）\n",
        "\n",
        "100,000 を超える文のデータセットを使って訓練するには長い時間がかかります。訓練を速くするため、データセットのサイズを 30,000 に制限することができます（もちろん、データが少なければ翻訳の品質は低下します）。"
      ]
    },
    {
      "cell_type": "code",
      "execution_count": null,
      "metadata": {
        "id": "cnxC7q-j3jFD"
      },
      "outputs": [],
      "source": [
        "# このサイズのデータセットで実験\n",
        "num_examples = 30000\n",
        "input_tensor, target_tensor, inp_lang, targ_lang = load_dataset(path_to_file, num_examples)\n",
        "\n",
        "# ターゲットテンソルの最大長を計算\n",
        "max_length_targ, max_length_inp = max_length(target_tensor), max_length(input_tensor)"
      ]
    },
    {
      "cell_type": "code",
      "execution_count": null,
      "metadata": {
        "id": "4QILQkOs3jFG",
        "colab": {
          "base_uri": "https://localhost:8080/"
        },
        "outputId": "ba633af5-f18d-40fa-92b2-cafc7cba761a"
      },
      "outputs": [
        {
          "output_type": "stream",
          "name": "stdout",
          "text": [
            "24000 24000 6000 6000\n"
          ]
        }
      ],
      "source": [
        "# 80-20で分割を行い、訓練用と検証用のデータセットを作成\n",
        "input_tensor_train, input_tensor_val, target_tensor_train, target_tensor_val = train_test_split(input_tensor, target_tensor, test_size=0.2)\n",
        "\n",
        "# 長さを表示\n",
        "print(len(input_tensor_train), len(target_tensor_train), len(input_tensor_val), len(target_tensor_val))"
      ]
    },
    {
      "cell_type": "code",
      "execution_count": null,
      "metadata": {
        "id": "lJPmLZGMeD5q"
      },
      "outputs": [],
      "source": [
        "def convert(lang, tensor):\n",
        "  for t in tensor:\n",
        "    if t!=0:\n",
        "      print (\"%d ----> %s\" % (t, lang.index_word[t]))"
      ]
    },
    {
      "cell_type": "code",
      "execution_count": null,
      "metadata": {
        "id": "VXukARTDd7MT",
        "colab": {
          "base_uri": "https://localhost:8080/"
        },
        "outputId": "6f838aa8-42d4-4557-fabf-d6a6e11a7c52"
      },
      "outputs": [
        {
          "output_type": "stream",
          "name": "stdout",
          "text": [
            "Input Language; index to word mapping\n",
            "1 ----> <start>\n",
            "1858 ----> hazte\n",
            "1236 ----> cargo\n",
            "14 ----> de\n",
            "30 ----> esto\n",
            "3 ----> .\n",
            "2 ----> <end>\n",
            "\n",
            "Target Language; index to word mapping\n",
            "1 ----> <start>\n",
            "94 ----> take\n",
            "436 ----> care\n",
            "59 ----> of\n",
            "19 ----> this\n",
            "3 ----> .\n",
            "2 ----> <end>\n"
          ]
        }
      ],
      "source": [
        "print (\"Input Language; index to word mapping\")\n",
        "convert(inp_lang, input_tensor_train[0])\n",
        "print ()\n",
        "print (\"Target Language; index to word mapping\")\n",
        "convert(targ_lang, target_tensor_train[0])"
      ]
    },
    {
      "cell_type": "markdown",
      "metadata": {
        "id": "rgCLkfv5uO3d"
      },
      "source": [
        "### tf.data データセットの作成"
      ]
    },
    {
      "cell_type": "code",
      "execution_count": null,
      "metadata": {
        "id": "TqHsArVZ3jFS"
      },
      "outputs": [],
      "source": [
        "BUFFER_SIZE = len(input_tensor_train)\n",
        "BATCH_SIZE = 64\n",
        "steps_per_epoch = len(input_tensor_train)//BATCH_SIZE\n",
        "embedding_dim = 256\n",
        "units = 1024\n",
        "vocab_inp_size = len(inp_lang.word_index)+1\n",
        "vocab_tar_size = len(targ_lang.word_index)+1\n",
        "\n",
        "dataset = tf.data.Dataset.from_tensor_slices((input_tensor_train, target_tensor_train)).shuffle(BUFFER_SIZE)\n",
        "dataset = dataset.batch(BATCH_SIZE, drop_remainder=True)"
      ]
    },
    {
      "cell_type": "code",
      "execution_count": null,
      "metadata": {
        "id": "qc6-NK1GtWQt",
        "colab": {
          "base_uri": "https://localhost:8080/"
        },
        "outputId": "57eef2e6-1dc2-4213-81cc-5090526515f5"
      },
      "outputs": [
        {
          "output_type": "execute_result",
          "data": {
            "text/plain": [
              "(TensorShape([64, 16]), TensorShape([64, 11]))"
            ]
          },
          "metadata": {},
          "execution_count": 16
        }
      ],
      "source": [
        "example_input_batch, example_target_batch = next(iter(dataset))\n",
        "example_input_batch.shape, example_target_batch.shape"
      ]
    },
    {
      "cell_type": "markdown",
      "metadata": {
        "id": "TNfHIF71ulLu"
      },
      "source": [
        "## エンコーダー・デコーダーモデルの記述\n",
        "\n",
        "TensorFlow の [Neural Machine Translation (seq2seq) tutorial](https://github.com/tensorflow/nmt) に記載されているアテンション付きのエンコーダー・デコーダーモデルを実装します。この例では、最新の API セットを使用します。このノートブックは、上記の seq2seq チュートリアルにある [attention equations](https://github.com/tensorflow/nmt#background-on-the-attention-mechanism) を実装します。下図は、入力の単語ひとつひとつにアテンション機構によって重みが割り当てられ、それを使ってデコーダーが文中の次の単語を予測することを示しています。下記の図と式は [Luong の論文](https://arxiv.org/abs/1508.04025v5) にあるアテンション機構の例です。\n",
        "\n",
        "<img src=\"https://www.tensorflow.org/images/seq2seq/attention_mechanism.jpg\" width=\"500\" alt=\"attention mechanism\">\n",
        "\n",
        "入力がエンコーダーを通過すると、shape が *(batch_size, max_length, hidden_size)* のエンコーダー出力と、shape が *(batch_size, hidden_size)* のエンコーダーの隠れ状態が得られます。\n",
        "\n",
        "下記に実装されている式を示します。\n",
        "\n",
        "<img src=\"https://www.tensorflow.org/images/seq2seq/attention_equation_0.jpg\" alt=\"attention equation 0\" width=\"800\">\n",
        "<img src=\"https://www.tensorflow.org/images/seq2seq/attention_equation_1.jpg\" alt=\"attention equation 1\" width=\"800\">\n",
        "\n",
        "このチュートリアルでは、エンコーダーでは [Bahdanau attention](https://arxiv.org/pdf/1409.0473.pdf) を使用します。簡略化した式を書く前に、表記方法を定めましょう。\n",
        "\n",
        "* FC = 全結合 (Dense) レイヤー\n",
        "* EO = エンコーダーの出力\n",
        "* H = 隠れ状態\n",
        "* X = デコーダーへの入力\n",
        "\n",
        "\n",
        "擬似コードは下記のとおりです。\n",
        "\n",
        "* `score = FC(tanh(FC(EO) + FC(H)))`\n",
        "* `attention weights = softmax(score, axis = 1)`　softmax は既定では最後の軸に対して実行されますが、スコアの shape が *(batch_size, max_length, hidden_size)*　であるため、*最初の軸* に適用します。`max_length` は入力の長さです。入力それぞれに重みを割り当てようとしているので、softmax はその軸に適用されなければなりません。\n",
        "* `context vector = sum(attention weights * EO, axis = 1)`. 上記と同様の理由で axis = 1 に設定しています。\n",
        "* `embedding output` = デコーダーへの入力 X は Embedding レイヤーを通して渡されます。\n",
        "* `merged vector = concat(embedding output, context vector)`\n",
        "* この結合されたベクトルがつぎに GRU に渡されます。\n",
        "\n",
        "それぞれのステップでのベクトルの shape は、コードのコメントに指定されています。"
      ]
    },
    {
      "cell_type": "code",
      "execution_count": null,
      "metadata": {
        "id": "nZ2rI24i3jFg"
      },
      "outputs": [],
      "source": [
        "class Encoder(tf.keras.Model):\n",
        "  def __init__(self, vocab_size, embedding_dim, enc_units, batch_sz):\n",
        "    super(Encoder, self).__init__()\n",
        "    self.batch_sz = batch_sz\n",
        "    self.enc_units = enc_units\n",
        "    self.embedding = tf.keras.layers.Embedding(vocab_size, embedding_dim)\n",
        "    self.gru = tf.keras.layers.GRU(self.enc_units,\n",
        "                                   return_sequences=True,\n",
        "                                   return_state=True,\n",
        "                                   recurrent_initializer='glorot_uniform')\n",
        "\n",
        "  def call(self, x, hidden):\n",
        "    x = self.embedding(x)\n",
        "    output, state = self.gru(x, initial_state = hidden)\n",
        "    return output, state\n",
        "\n",
        "  def initialize_hidden_state(self):\n",
        "    return tf.zeros((self.batch_sz, self.enc_units))"
      ]
    },
    {
      "cell_type": "code",
      "execution_count": null,
      "metadata": {
        "id": "60gSVh05Jl6l",
        "colab": {
          "base_uri": "https://localhost:8080/"
        },
        "outputId": "ee3c4fc0-81d6-4c55-b48b-37f3b6b8ace8"
      },
      "outputs": [
        {
          "output_type": "stream",
          "name": "stdout",
          "text": [
            "Encoder output shape: (batch size, sequence length, units) (64, 16, 1024)\n",
            "Encoder Hidden state shape: (batch size, units) (64, 1024)\n"
          ]
        }
      ],
      "source": [
        "encoder = Encoder(vocab_inp_size, embedding_dim, units, BATCH_SIZE)\n",
        "\n",
        "# サンプル入力\n",
        "sample_hidden = encoder.initialize_hidden_state()\n",
        "sample_output, sample_hidden = encoder(example_input_batch, sample_hidden)\n",
        "print ('Encoder output shape: (batch size, sequence length, units) {}'.format(sample_output.shape))\n",
        "print ('Encoder Hidden state shape: (batch size, units) {}'.format(sample_hidden.shape))"
      ]
    },
    {
      "cell_type": "code",
      "execution_count": null,
      "metadata": {
        "id": "umohpBN2OM94"
      },
      "outputs": [],
      "source": [
        "class BahdanauAttention(tf.keras.layers.Layer):\n",
        "  def __init__(self, units):\n",
        "    super(BahdanauAttention, self).__init__()\n",
        "    self.W1 = tf.keras.layers.Dense(units)\n",
        "    self.W2 = tf.keras.layers.Dense(units)\n",
        "    self.V = tf.keras.layers.Dense(1)\n",
        "\n",
        "  def call(self, query, values):\n",
        "    # hidden shape == (batch_size, hidden size)\n",
        "    # hidden_with_time_axis shape == (batch_size, 1, hidden size)\n",
        "    # スコアを計算するためにこのように加算を実行する\n",
        "    hidden_with_time_axis = tf.expand_dims(query, 1)\n",
        "\n",
        "    # score shape == (batch_size, max_length, 1)\n",
        "    # スコアを self.V に適用するために最後の軸は 1 となる\n",
        "    # self.V に適用する前のテンソルの shape は  (batch_size, max_length, units)\n",
        "    score = self.V(tf.nn.tanh(\n",
        "        self.W1(values) + self.W2(hidden_with_time_axis)))\n",
        "\n",
        "    # attention_weights の shape == (batch_size, max_length, 1)\n",
        "    attention_weights = tf.nn.softmax(score, axis=1)\n",
        "\n",
        "    # context_vector の合計後の shape == (batch_size, hidden_size)\n",
        "    context_vector = attention_weights * values\n",
        "    context_vector = tf.reduce_sum(context_vector, axis=1)\n",
        "\n",
        "    return context_vector, attention_weights"
      ]
    },
    {
      "cell_type": "code",
      "execution_count": null,
      "metadata": {
        "id": "k534zTHiDjQU",
        "colab": {
          "base_uri": "https://localhost:8080/"
        },
        "outputId": "814ff335-c6d5-4a42-d5fc-8b70a238e0f3"
      },
      "outputs": [
        {
          "output_type": "stream",
          "name": "stdout",
          "text": [
            "Attention result shape: (batch size, units) (64, 1024)\n",
            "Attention weights shape: (batch_size, sequence_length, 1) (64, 16, 1)\n"
          ]
        }
      ],
      "source": [
        "attention_layer = BahdanauAttention(10)\n",
        "attention_result, attention_weights = attention_layer(sample_hidden, sample_output)\n",
        "\n",
        "print(\"Attention result shape: (batch size, units) {}\".format(attention_result.shape))\n",
        "print(\"Attention weights shape: (batch_size, sequence_length, 1) {}\".format(attention_weights.shape))"
      ]
    },
    {
      "cell_type": "code",
      "execution_count": null,
      "metadata": {
        "id": "yJ_B3mhW3jFk"
      },
      "outputs": [],
      "source": [
        "class Decoder(tf.keras.Model):\n",
        "  def __init__(self, vocab_size, embedding_dim, dec_units, batch_sz):\n",
        "    super(Decoder, self).__init__()\n",
        "    self.batch_sz = batch_sz\n",
        "    self.dec_units = dec_units\n",
        "    self.embedding = tf.keras.layers.Embedding(vocab_size, embedding_dim)\n",
        "    self.gru = tf.keras.layers.GRU(self.dec_units,\n",
        "                                   return_sequences=True,\n",
        "                                   return_state=True,\n",
        "                                   recurrent_initializer='glorot_uniform')\n",
        "    self.fc = tf.keras.layers.Dense(vocab_size)\n",
        "\n",
        "    # アテンションのため\n",
        "    self.attention = BahdanauAttention(self.dec_units)\n",
        "\n",
        "  def call(self, x, hidden, enc_output):\n",
        "    # enc_output の shape == (batch_size, max_length, hidden_size)\n",
        "    context_vector, attention_weights = self.attention(hidden, enc_output)\n",
        "\n",
        "    # 埋め込み層を通過したあとの x の shape  == (batch_size, 1, embedding_dim)\n",
        "    x = self.embedding(x)\n",
        "\n",
        "    # 結合後の x の shape == (batch_size, 1, embedding_dim + hidden_size)\n",
        "    x = tf.concat([tf.expand_dims(context_vector, 1), x], axis=-1)\n",
        "\n",
        "    # 結合したベクトルを GRU 層に渡す\n",
        "    output, state = self.gru(x)\n",
        "\n",
        "    # output shape == (batch_size * 1, hidden_size)\n",
        "    output = tf.reshape(output, (-1, output.shape[2]))\n",
        "\n",
        "    # output shape == (batch_size, vocab)\n",
        "    x = self.fc(output)\n",
        "\n",
        "    return x, state, attention_weights"
      ]
    },
    {
      "cell_type": "code",
      "execution_count": null,
      "metadata": {
        "id": "P5UY8wko3jFp",
        "colab": {
          "base_uri": "https://localhost:8080/"
        },
        "outputId": "91055892-ae9a-44b3-89a6-4127ad89a2b4"
      },
      "outputs": [
        {
          "output_type": "stream",
          "name": "stdout",
          "text": [
            "Decoder output shape: (batch_size, vocab size) (64, 4935)\n"
          ]
        }
      ],
      "source": [
        "decoder = Decoder(vocab_tar_size, embedding_dim, units, BATCH_SIZE)\n",
        "\n",
        "sample_decoder_output, _, _ = decoder(tf.random.uniform((64, 1)),\n",
        "                                      sample_hidden, sample_output)\n",
        "\n",
        "print ('Decoder output shape: (batch_size, vocab size) {}'.format(sample_decoder_output.shape))"
      ]
    },
    {
      "cell_type": "markdown",
      "metadata": {
        "id": "_ch_71VbIRfK"
      },
      "source": [
        "## オプティマイザと損失関数の定義"
      ]
    },
    {
      "cell_type": "code",
      "execution_count": null,
      "metadata": {
        "id": "WmTHr5iV3jFr"
      },
      "outputs": [],
      "source": [
        "optimizer = tf.keras.optimizers.Adam()\n",
        "loss_object = tf.keras.losses.SparseCategoricalCrossentropy(\n",
        "    from_logits=True, reduction='none')\n",
        "\n",
        "def loss_function(real, pred):\n",
        "  mask = tf.math.logical_not(tf.math.equal(real, 0))\n",
        "  loss_ = loss_object(real, pred)\n",
        "\n",
        "  mask = tf.cast(mask, dtype=loss_.dtype)\n",
        "  loss_ *= mask\n",
        "\n",
        "  return tf.reduce_mean(loss_)"
      ]
    },
    {
      "cell_type": "markdown",
      "metadata": {
        "id": "DMVWzzsfNl4e"
      },
      "source": [
        "## チェックポイント（オブジェクトベースの保存）"
      ]
    },
    {
      "cell_type": "code",
      "execution_count": null,
      "metadata": {
        "id": "Zj8bXQTgNwrF"
      },
      "outputs": [],
      "source": [
        "checkpoint_dir = './training_checkpoints'\n",
        "checkpoint_prefix = os.path.join(checkpoint_dir, \"ckpt\")\n",
        "checkpoint = tf.train.Checkpoint(optimizer=optimizer,\n",
        "                                 encoder=encoder,\n",
        "                                 decoder=decoder)"
      ]
    },
    {
      "cell_type": "markdown",
      "metadata": {
        "id": "hpObfY22IddU"
      },
      "source": [
        "## 訓練\n",
        "\n",
        "1. *入力* を *エンコーダー* に通すと、*エンコーダー出力* と *エンコーダーの隠れ状態* が返される\n",
        "2. エンコーダーの出力とエンコーダーの隠れ状態、そしてデコーダーの入力（これが *開始トークン*）がデコーダーに渡される\n",
        "3. デコーダーは *予測値* と *デコーダーの隠れ状態* を返す\n",
        "4. つぎにデコーダーの隠れ状態がモデルに戻され、予測値が損失関数の計算に使用される\n",
        "5. デコーダーへの次の入力を決定するために *Teacher Forcing* が使用される\n",
        "6. *Teacher Forcing* は、*正解単語* をデコーダーの *次の入力* として使用するテクニックである\n",
        "7. 最後に勾配を計算し、それをオプティマイザに与えて誤差逆伝播を行う"
      ]
    },
    {
      "cell_type": "code",
      "execution_count": null,
      "metadata": {
        "id": "sC9ArXSsVfqn"
      },
      "outputs": [],
      "source": [
        "@tf.function\n",
        "def train_step(inp, targ, enc_hidden):\n",
        "  loss = 0\n",
        "\n",
        "  with tf.GradientTape() as tape:\n",
        "    enc_output, enc_hidden = encoder(inp, enc_hidden)\n",
        "\n",
        "    dec_hidden = enc_hidden\n",
        "\n",
        "    dec_input = tf.expand_dims([targ_lang.word_index['<start>']] * BATCH_SIZE, 1)\n",
        "\n",
        "    # Teacher Forcing - 正解値を次の入力として供給\n",
        "    for t in range(1, targ.shape[1]):\n",
        "      # passing enc_output to the decoder\n",
        "      predictions, dec_hidden, _ = decoder(dec_input, dec_hidden, enc_output)\n",
        "\n",
        "      loss += loss_function(targ[:, t], predictions)\n",
        "\n",
        "      # Teacher Forcing を使用\n",
        "      dec_input = tf.expand_dims(targ[:, t], 1)\n",
        "\n",
        "  batch_loss = (loss / int(targ.shape[1]))\n",
        "\n",
        "  variables = encoder.trainable_variables + decoder.trainable_variables\n",
        "\n",
        "  gradients = tape.gradient(loss, variables)\n",
        "\n",
        "  optimizer.apply_gradients(zip(gradients, variables))\n",
        "\n",
        "  return batch_loss"
      ]
    },
    {
      "cell_type": "code",
      "execution_count": null,
      "metadata": {
        "id": "ddefjBMa3jF0",
        "colab": {
          "base_uri": "https://localhost:8080/"
        },
        "outputId": "0e89028a-a16d-4c92-e9d8-0d51ce75dbed"
      },
      "outputs": [
        {
          "output_type": "stream",
          "name": "stdout",
          "text": [
            "Epoch 1 Batch 0 Loss 4.6630\n",
            "Epoch 1 Batch 100 Loss 2.1138\n",
            "Epoch 1 Batch 200 Loss 1.8655\n",
            "Epoch 1 Batch 300 Loss 1.7391\n",
            "Epoch 1 Loss 2.0416\n",
            "Time taken for 1 epoch 49.914024114608765 sec\n",
            "\n",
            "Epoch 2 Batch 0 Loss 1.5678\n",
            "Epoch 2 Batch 100 Loss 1.4255\n",
            "Epoch 2 Batch 200 Loss 1.3429\n",
            "Epoch 2 Batch 300 Loss 1.3561\n",
            "Epoch 2 Loss 1.4095\n",
            "Time taken for 1 epoch 26.94392418861389 sec\n",
            "\n",
            "Epoch 3 Batch 0 Loss 1.0680\n",
            "Epoch 3 Batch 100 Loss 1.0243\n",
            "Epoch 3 Batch 200 Loss 0.9542\n",
            "Epoch 3 Batch 300 Loss 0.8600\n",
            "Epoch 3 Loss 0.9937\n",
            "Time taken for 1 epoch 26.04426336288452 sec\n",
            "\n",
            "Epoch 4 Batch 0 Loss 0.7221\n",
            "Epoch 4 Batch 100 Loss 0.7003\n",
            "Epoch 4 Batch 200 Loss 0.6542\n",
            "Epoch 4 Batch 300 Loss 0.6888\n",
            "Epoch 4 Loss 0.6844\n",
            "Time taken for 1 epoch 26.60863161087036 sec\n",
            "\n",
            "Epoch 5 Batch 0 Loss 0.4634\n",
            "Epoch 5 Batch 100 Loss 0.4026\n",
            "Epoch 5 Batch 200 Loss 0.4833\n",
            "Epoch 5 Batch 300 Loss 0.4197\n",
            "Epoch 5 Loss 0.4710\n",
            "Time taken for 1 epoch 26.588965892791748 sec\n",
            "\n",
            "Epoch 6 Batch 0 Loss 0.3072\n",
            "Epoch 6 Batch 100 Loss 0.3494\n",
            "Epoch 6 Batch 200 Loss 0.3188\n",
            "Epoch 6 Batch 300 Loss 0.3222\n",
            "Epoch 6 Loss 0.3284\n",
            "Time taken for 1 epoch 26.85657548904419 sec\n",
            "\n",
            "Epoch 7 Batch 0 Loss 0.2023\n",
            "Epoch 7 Batch 100 Loss 0.2739\n",
            "Epoch 7 Batch 200 Loss 0.2424\n",
            "Epoch 7 Batch 300 Loss 0.2001\n",
            "Epoch 7 Loss 0.2360\n",
            "Time taken for 1 epoch 26.45592188835144 sec\n",
            "\n",
            "Epoch 8 Batch 0 Loss 0.1958\n",
            "Epoch 8 Batch 100 Loss 0.1655\n",
            "Epoch 8 Batch 200 Loss 0.1469\n",
            "Epoch 8 Batch 300 Loss 0.2272\n",
            "Epoch 8 Loss 0.1763\n",
            "Time taken for 1 epoch 26.95601534843445 sec\n",
            "\n",
            "Epoch 9 Batch 0 Loss 0.1457\n",
            "Epoch 9 Batch 100 Loss 0.1055\n",
            "Epoch 9 Batch 200 Loss 0.1357\n",
            "Epoch 9 Batch 300 Loss 0.0990\n",
            "Epoch 9 Loss 0.1349\n",
            "Time taken for 1 epoch 26.60807704925537 sec\n",
            "\n",
            "Epoch 10 Batch 0 Loss 0.0932\n",
            "Epoch 10 Batch 100 Loss 0.0797\n",
            "Epoch 10 Batch 200 Loss 0.1228\n",
            "Epoch 10 Batch 300 Loss 0.1484\n",
            "Epoch 10 Loss 0.1073\n",
            "Time taken for 1 epoch 27.40225386619568 sec\n",
            "\n"
          ]
        }
      ],
      "source": [
        "EPOCHS = 10\n",
        "\n",
        "for epoch in range(EPOCHS):\n",
        "  start = time.time()\n",
        "\n",
        "  enc_hidden = encoder.initialize_hidden_state()\n",
        "  total_loss = 0\n",
        "\n",
        "  for (batch, (inp, targ)) in enumerate(dataset.take(steps_per_epoch)):\n",
        "    batch_loss = train_step(inp, targ, enc_hidden)\n",
        "    total_loss += batch_loss\n",
        "\n",
        "    if batch % 100 == 0:\n",
        "        print('Epoch {} Batch {} Loss {:.4f}'.format(epoch + 1,\n",
        "                                                     batch,\n",
        "                                                     batch_loss.numpy()))\n",
        "  # 2 エポックごとにモデル（のチェックポイント）を保存\n",
        "  if (epoch + 1) % 2 == 0:\n",
        "    checkpoint.save(file_prefix = checkpoint_prefix)\n",
        "\n",
        "  print('Epoch {} Loss {:.4f}'.format(epoch + 1,\n",
        "                                      total_loss / steps_per_epoch))\n",
        "  print('Time taken for 1 epoch {} sec\\n'.format(time.time() - start))"
      ]
    },
    {
      "cell_type": "markdown",
      "metadata": {
        "id": "mU3Ce8M6I3rz"
      },
      "source": [
        "## 翻訳\n",
        "\n",
        "* 評価関数は、*Teacher Forcing* を使わないことを除いては、訓練ループと同様である。タイムステップごとのデコーダーへの入力は、過去の予測値に加えて、隠れ状態とエンコーダーのアウトプットである。\n",
        "* モデルが *終了トークン* を予測したら、予測を停止する。\n",
        "* また、*タイムステップごとのアテンションの重み*　を保存する。\n",
        "\n",
        "Note: エンコーダーの出力は 1 つの入力に対して 1 回だけ計算されます。"
      ]
    },
    {
      "cell_type": "code",
      "execution_count": null,
      "metadata": {
        "id": "EbQpyYs13jF_"
      },
      "outputs": [],
      "source": [
        "def evaluate(sentence):\n",
        "    attention_plot = np.zeros((max_length_targ, max_length_inp))\n",
        "\n",
        "    sentence = preprocess_sentence(sentence)\n",
        "\n",
        "    inputs = [inp_lang.word_index[i] for i in sentence.split(' ')]\n",
        "    inputs = tf.keras.preprocessing.sequence.pad_sequences([inputs],\n",
        "                                                           maxlen=max_length_inp,\n",
        "                                                           padding='post')\n",
        "    inputs = tf.convert_to_tensor(inputs)\n",
        "\n",
        "    result = ''\n",
        "\n",
        "    hidden = [tf.zeros((1, units))]\n",
        "    enc_out, enc_hidden = encoder(inputs, hidden)\n",
        "\n",
        "    dec_hidden = enc_hidden\n",
        "    dec_input = tf.expand_dims([targ_lang.word_index['<start>']], 0)\n",
        "\n",
        "    for t in range(max_length_targ):\n",
        "        predictions, dec_hidden, attention_weights = decoder(dec_input,\n",
        "                                                             dec_hidden,\n",
        "                                                             enc_out)\n",
        "\n",
        "        # 後ほどプロットするためにアテンションの重みを保存\n",
        "        attention_weights = tf.reshape(attention_weights, (-1, ))\n",
        "        attention_plot[t] = attention_weights.numpy()\n",
        "\n",
        "        predicted_id = tf.argmax(predictions[0]).numpy()\n",
        "\n",
        "        result += targ_lang.index_word[predicted_id] + ' '\n",
        "\n",
        "        if targ_lang.index_word[predicted_id] == '<end>':\n",
        "            return result, sentence, attention_plot\n",
        "\n",
        "        # 予測された ID がモデルに戻される\n",
        "        dec_input = tf.expand_dims([predicted_id], 0)\n",
        "\n",
        "    return result, sentence, attention_plot"
      ]
    },
    {
      "cell_type": "code",
      "execution_count": null,
      "metadata": {
        "id": "s5hQWlbN3jGF"
      },
      "outputs": [],
      "source": [
        "# アテンションの重みをプロットする関数\n",
        "def plot_attention(attention, sentence, predicted_sentence):\n",
        "    fig = plt.figure(figsize=(10,10))\n",
        "    ax = fig.add_subplot(1, 1, 1)\n",
        "    ax.matshow(attention, cmap='viridis')\n",
        "\n",
        "    fontdict = {'fontsize': 14}\n",
        "\n",
        "    ax.set_xticklabels([''] + sentence, fontdict=fontdict, rotation=90)\n",
        "    ax.set_yticklabels([''] + predicted_sentence, fontdict=fontdict)\n",
        "\n",
        "    ax.xaxis.set_major_locator(ticker.MultipleLocator(1))\n",
        "    ax.yaxis.set_major_locator(ticker.MultipleLocator(1))\n",
        "\n",
        "    plt.show()"
      ]
    },
    {
      "cell_type": "code",
      "execution_count": null,
      "metadata": {
        "id": "sl9zUHzg3jGI"
      },
      "outputs": [],
      "source": [
        "def translate(sentence):\n",
        "    result, sentence, attention_plot = evaluate(sentence)\n",
        "\n",
        "    print('Input: %s' % (sentence))\n",
        "    print('Predicted translation: {}'.format(result))\n",
        "\n",
        "    attention_plot = attention_plot[:len(result.split(' ')), :len(sentence.split(' '))]\n",
        "    plot_attention(attention_plot, sentence.split(' '), result.split(' '))"
      ]
    },
    {
      "cell_type": "markdown",
      "metadata": {
        "id": "n250XbnjOaqP"
      },
      "source": [
        "## 最後のチェックポイントを復元しテストする"
      ]
    },
    {
      "cell_type": "code",
      "execution_count": null,
      "metadata": {
        "id": "UJpT9D5_OgP6",
        "colab": {
          "base_uri": "https://localhost:8080/"
        },
        "outputId": "bd189162-c532-445e-c25c-cd21615a40c9"
      },
      "outputs": [
        {
          "output_type": "execute_result",
          "data": {
            "text/plain": [
              "<tensorflow.python.checkpoint.checkpoint.CheckpointLoadStatus at 0x7f37257b3ca0>"
            ]
          },
          "metadata": {},
          "execution_count": 30
        }
      ],
      "source": [
        "# checkpoint_dir の中の最後のチェックポイントを復元\n",
        "checkpoint.restore(tf.train.latest_checkpoint(checkpoint_dir))"
      ]
    },
    {
      "cell_type": "code",
      "execution_count": null,
      "metadata": {
        "id": "WrAM0FDomq3E",
        "colab": {
          "base_uri": "https://localhost:8080/",
          "height": 996
        },
        "outputId": "35fbeab6-b730-4ed4-e679-5c0de8798295"
      },
      "outputs": [
        {
          "output_type": "stream",
          "name": "stdout",
          "text": [
            "Input: <start> hace mucho frio aqui . <end>\n",
            "Predicted translation: it s pretty cold . <end> \n"
          ]
        },
        {
          "output_type": "stream",
          "name": "stderr",
          "text": [
            "<ipython-input-28-5ef4cab55ead>:9: UserWarning: FixedFormatter should only be used together with FixedLocator\n",
            "  ax.set_xticklabels([''] + sentence, fontdict=fontdict, rotation=90)\n",
            "<ipython-input-28-5ef4cab55ead>:10: UserWarning: FixedFormatter should only be used together with FixedLocator\n",
            "  ax.set_yticklabels([''] + predicted_sentence, fontdict=fontdict)\n"
          ]
        },
        {
          "output_type": "display_data",
          "data": {
            "text/plain": [
              "<Figure size 1000x1000 with 1 Axes>"
            ],
            "image/png": "[encoded data removed]"
          },
          "metadata": {}
        }
      ],
      "source": [
        "translate(u'hace mucho frio aqui.')"
      ]
    },
    {
      "cell_type": "code",
      "execution_count": null,
      "metadata": {
        "id": "zSx2iM36EZQZ",
        "colab": {
          "base_uri": "https://localhost:8080/",
          "height": 996
        },
        "outputId": "0367d356-4a4b-49bd-e8fc-8038b2753035"
      },
      "outputs": [
        {
          "output_type": "stream",
          "name": "stdout",
          "text": [
            "Input: <start> esta es mi vida . <end>\n",
            "Predicted translation: this is my life . <end> \n"
          ]
        },
        {
          "output_type": "stream",
          "name": "stderr",
          "text": [
            "<ipython-input-28-5ef4cab55ead>:9: UserWarning: FixedFormatter should only be used together with FixedLocator\n",
            "  ax.set_xticklabels([''] + sentence, fontdict=fontdict, rotation=90)\n",
            "<ipython-input-28-5ef4cab55ead>:10: UserWarning: FixedFormatter should only be used together with FixedLocator\n",
            "  ax.set_yticklabels([''] + predicted_sentence, fontdict=fontdict)\n"
          ]
        },
        {
          "output_type": "display_data",
          "data": {
            "text/plain": [
              "<Figure size 1000x1000 with 1 Axes>"
            ],
            "image/png": "[encoded data removed]"
          },
          "metadata": {}
        }
      ],
      "source": [
        "translate(u'esta es mi vida.')"
      ]
    },
    {
      "cell_type": "code",
      "execution_count": null,
      "metadata": {
        "id": "A3LLCx3ZE0Ls",
        "colab": {
          "base_uri": "https://localhost:8080/",
          "height": 996
        },
        "outputId": "c2ee05e1-a73d-4dc1-dc6b-f86e8b3c2c00"
      },
      "outputs": [
        {
          "output_type": "stream",
          "name": "stdout",
          "text": [
            "Input: <start> ¿ todavia estan en casa ? <end>\n",
            "Predicted translation: are you still at home ? <end> \n"
          ]
        },
        {
          "output_type": "stream",
          "name": "stderr",
          "text": [
            "<ipython-input-28-5ef4cab55ead>:9: UserWarning: FixedFormatter should only be used together with FixedLocator\n",
            "  ax.set_xticklabels([''] + sentence, fontdict=fontdict, rotation=90)\n",
            "<ipython-input-28-5ef4cab55ead>:10: UserWarning: FixedFormatter should only be used together with FixedLocator\n",
            "  ax.set_yticklabels([''] + predicted_sentence, fontdict=fontdict)\n"
          ]
        },
        {
          "output_type": "display_data",
          "data": {
            "text/plain": [
              "<Figure size 1000x1000 with 1 Axes>"
            ],
            "image/png": "[encoded data removed]"
          },
          "metadata": {}
        }
      ],
      "source": [
        "translate(u'¿todavia estan en casa?')"
      ]
    },
    {
      "cell_type": "code",
      "execution_count": null,
      "metadata": {
        "id": "DUQVLVqUE1YW",
        "colab": {
          "base_uri": "https://localhost:8080/",
          "height": 1000
        },
        "outputId": "e0ef8928-92e3-41b3-e0ec-6240e7511ffb"
      },
      "outputs": [
        {
          "output_type": "stream",
          "name": "stdout",
          "text": [
            "Input: <start> trata de averiguarlo . <end>\n",
            "Predicted translation: try to figure it out . <end> \n"
          ]
        },
        {
          "output_type": "stream",
          "name": "stderr",
          "text": [
            "<ipython-input-28-5ef4cab55ead>:9: UserWarning: FixedFormatter should only be used together with FixedLocator\n",
            "  ax.set_xticklabels([''] + sentence, fontdict=fontdict, rotation=90)\n",
            "<ipython-input-28-5ef4cab55ead>:10: UserWarning: FixedFormatter should only be used together with FixedLocator\n",
            "  ax.set_yticklabels([''] + predicted_sentence, fontdict=fontdict)\n"
          ]
        },
        {
          "output_type": "display_data",
          "data": {
            "text/plain": [
              "<Figure size 1000x1000 with 1 Axes>"
            ],
            "image/png": "[encoded data removed]"
          },
          "metadata": {}
        }
      ],
      "source": [
        "# 翻訳あやまりの例\n",
        "translate(u'trata de averiguarlo.')"
      ]
    },
    {
      "cell_type": "markdown",
      "metadata": {
        "id": "RTe5P5ioMJwN"
      },
      "source": [
        "## 次のステップ\n",
        "\n",
        "* [異なるデータセットをダウンロード](http://www.manythings.org/anki/)して翻訳の実験を行ってみよう。たとえば英語からドイツ語や、英語からフランス語。\n",
        "* もっと大きなデータセットで訓練を行ったり、もっと多くのエポックで訓練を行ったりしてみよう。"
      ]
    }
  ],
  "metadata": {
    "accelerator": "GPU",
    "colab": {
      "provenance": [],
      "gpuType": "T4",
      "include_colab_link": true
    },
    "kernelspec": {
      "display_name": "Python 3",
      "name": "python3"
    }
  },
  "nbformat": 4,
  "nbformat_minor": 0
}